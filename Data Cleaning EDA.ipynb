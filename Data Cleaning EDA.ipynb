{
 "cells": [
  {
   "cell_type": "code",
   "execution_count": 1,
   "metadata": {},
   "outputs": [],
   "source": [
    "import pandas as pd\n",
    "import scipy as sp\n",
    "import numpy as np\n",
    "from matplotlib import pyplot as plt\n",
    "from sklearn import linear_model\n",
    "from sklearn.model_selection import train_test_split\n",
    "from sklearn.metrics import mean_squared_error, r2_score\n",
    "from sklearn.preprocessing import PolynomialFeatures\n",
    "from scipy import stats\n",
    "import seaborn as sns\n",
    "import re\n",
    "plt.style.use('ggplot')"
   ]
  },
  {
   "cell_type": "code",
   "execution_count": 2,
   "metadata": {},
   "outputs": [],
   "source": [
    "cars = pd.read_csv(\"cars.csv\")"
   ]
  },
  {
   "cell_type": "code",
   "execution_count": 3,
   "metadata": {},
   "outputs": [],
   "source": [
    "cars[\"drive\"] = cars[\"drive\"].str.strip()\n",
    "cars[\"title\"] = cars[\"title\"].str.strip()\n",
    "cars[\"exter\"] = cars[\"exter\"].str.strip()\n",
    "cars[\"inter\"] = cars[\"inter\"].str.strip()\n",
    "cars[\"made\"] = cars[\"made\"].str.strip()\n",
    "cars[\"model\"] = cars[\"model\"].str.strip()\n",
    "cars[\"eng\"] = cars[\"eng\"].str.strip()\n",
    "cars[\"tran\"] = cars[\"tran\"].str.strip()\n",
    "cars[\"mileage\"] = cars[\"mileage\"].str.strip()"
   ]
  },
  {
   "cell_type": "code",
   "execution_count": 6,
   "metadata": {},
   "outputs": [],
   "source": [
    "cars[\"price\"].replace([\"Not Priced\",\"FWD\"], None, inplace = True)\n",
    "cars[\"price\"].replace({'\\$': '', ',': ''}, regex=True, inplace = True)\n",
    "cars[\"mileage\"].replace({',': ''}, regex=True, inplace = True)"
   ]
  },
  {
   "cell_type": "code",
   "execution_count": 7,
   "metadata": {},
   "outputs": [],
   "source": [
    "cars[\"mileage\"].replace(\"Not provided\", np.NaN, inplace = True)\n",
    "cars[\"price\"].replace([None, 1], np.NaN, inplace = True)"
   ]
  },
  {
   "cell_type": "code",
   "execution_count": 8,
   "metadata": {},
   "outputs": [
    {
     "data": {
      "text/plain": [
       "cty         8295\n",
       "drive       3381\n",
       "eng         1742\n",
       "exter          0\n",
       "fuel           0\n",
       "hwy         8295\n",
       "inter       5519\n",
       "made           0\n",
       "mileage        0\n",
       "model          0\n",
       "price          0\n",
       "slreview    4584\n",
       "slrzip      1170\n",
       "title          0\n",
       "tran         992\n",
       "year           0\n",
       "dtype: int64"
      ]
     },
     "execution_count": 8,
     "metadata": {},
     "output_type": "execute_result"
    }
   ],
   "source": [
    "cars[\"exter\"].fillna(\"UNKNOW\", inplace = True)\n",
    "cars.dropna(subset = [\"price\"],inplace = True)\n",
    "cars.dropna(subset = [\"mileage\"],inplace = True)\n",
    "cars.isna().sum()"
   ]
  },
  {
   "cell_type": "code",
   "execution_count": 9,
   "metadata": {
    "scrolled": true
   },
   "outputs": [],
   "source": [
    "cars[\"mileage\"] = cars[\"mileage\"].astype(int)\n",
    "cars[\"price\"] = cars[\"price\"].astype(int)"
   ]
  },
  {
   "cell_type": "code",
   "execution_count": 11,
   "metadata": {},
   "outputs": [],
   "source": [
    "cars[\"drive\"].replace([\"4MATIC\", \"quattro\", \"Quattro AWD\", \"Four Wheel Drive\", \"All Wheel Drive\", \n",
    "                        \"All-Wheel Drive with Locking Differential\", \"All-Wheel Drive with Locking and Limited-Slip Differential\", \n",
    "                        \"ALL-WHEEL DRIVE\", \"4x4/4-wheel drive\", \"Four-Wheel Drive with Locking and Limited-Slip Differential\", \n",
    "                        \"4x4\", \"4WD\", \"4MATICA?\", \"4MATIC AWD\", \"4MATIC 4WD\", \"FOUR-WHEEL DRIVE\", \"Four-Wheel\",\n",
    "                        \"4x2\",\"4X2\", \"4X4\", \"CVT 7-Speed\", \"All-wheel Drive\"], \"AWD\", inplace = True)"
   ]
  },
  {
   "cell_type": "code",
   "execution_count": 12,
   "metadata": {},
   "outputs": [],
   "source": [
    "cars[\"drive\"].replace([\"Front-wheel Drive\", \"FrontTrak\", \"FRONT-WHEEL DRIVE\", \"Front Wheel Drive\", \"2WD\", \"Unspecified\",\n",
    "                        \"Front-Wheel Drive with Limited-Slip Differential\", \"Front-Wheel Drive\"], \"FWD\", inplace = True)"
   ]
  },
  {
   "cell_type": "code",
   "execution_count": 13,
   "metadata": {},
   "outputs": [
    {
     "data": {
      "text/plain": [
       "drive\n",
       "AWD    30621\n",
       "FWD    17807\n",
       "RWD     4796\n",
       "Name: title, dtype: int64"
      ]
     },
     "execution_count": 13,
     "metadata": {},
     "output_type": "execute_result"
    }
   ],
   "source": [
    "cars[\"drive\"].replace([\"Rear-wheel Drive\", \"Rear-Wheel Drive with Limited-Slip Differential\", \"4x2/2-wheel drive\", \n",
    "                        \"Rear-Wheel Drive\", \"Rear Wheel Drive\", \"Automatic 8-Speed\"], \"RWD\", inplace = True)\n",
    "cars.groupby(\"drive\")[\"title\"].count().sort_values(ascending = False)"
   ]
  },
  {
   "cell_type": "code",
   "execution_count": 15,
   "metadata": {},
   "outputs": [],
   "source": [
    "cars.loc[cars[\"exter\"].str.contains(\"White\"), \"exter\"] = \"White\"\n",
    "cars.loc[cars[\"exter\"].str.contains(\"Black\"), \"exter\"] = \"Black\"\n",
    "cars.loc[cars[\"exter\"].str.contains(\"Silver\"), \"exter\"] = \"Silver\"\n",
    "cars.loc[cars[\"exter\"].str.contains(\"Blue\"), \"exter\"] = \"Blue\"\n",
    "cars.loc[cars[\"exter\"].str.contains(\"Red\"), \"exter\"] = \"Red\"\n",
    "cars.loc[cars[\"exter\"].str.contains(\"Gray\"), \"exter\"] = \"Gray\"\n",
    "cars.loc[cars[\"exter\"].str.contains(\"Yellow\"), \"exter\"] = \"Yellow\"\n",
    "cars.loc[cars[\"exter\"].str.contains(\"Brown\"), \"exter\"] = \"Brown\"\n",
    "cars.loc[cars[\"exter\"].str.contains(\"Grey\"), \"exter\"] = \"Gray\""
   ]
  },
  {
   "cell_type": "code",
   "execution_count": 19,
   "metadata": {},
   "outputs": [],
   "source": [
    "scatter_df = cars.loc[(cars[\"year\"]>2000) & (cars[\"made\"] == \"Mercedes-Benz\")]\n",
    "scatter_df = scatter_df[[\"year\", \"price\"]]"
   ]
  },
  {
   "cell_type": "code",
   "execution_count": 20,
   "metadata": {},
   "outputs": [
    {
     "data": {
      "text/plain": [
       "<matplotlib.axes._subplots.AxesSubplot at 0x1a25765588>"
      ]
     },
     "execution_count": 20,
     "metadata": {},
     "output_type": "execute_result"
    },
    {
     "data": {
      "image/png": "[encoded data removed]",
      "text/plain": [
       "<Figure size 432x288 with 1 Axes>"
      ]
     },
     "metadata": {
      "needs_background": "light"
     },
     "output_type": "display_data"
    }
   ],
   "source": [
    "scatter_df.plot.scatter(x = \"year\", y = \"price\")"
   ]
  },
  {
   "cell_type": "code",
   "execution_count": 21,
   "metadata": {},
   "outputs": [],
   "source": [
    "scatter_df1 = cars.loc[(cars[\"mileage\"]<200000) & (cars[\"price\"]<300000) & (cars[\"made\"] == \"Chevrolet\")]\n",
    "scatter_df1 = scatter_df1[[\"price\", \"mileage\"]]"
   ]
  },
  {
   "cell_type": "code",
   "execution_count": 22,
   "metadata": {},
   "outputs": [
    {
     "data": {
      "text/plain": [
       "<matplotlib.axes._subplots.AxesSubplot at 0x1a2572dd30>"
      ]
     },
     "execution_count": 22,
     "metadata": {},
     "output_type": "execute_result"
    },
    {
     "data": {
      "image/png": "[encoded data removed]",
      "text/plain": [
       "<Figure size 432x288 with 1 Axes>"
      ]
     },
     "metadata": {
      "needs_background": "light"
     },
     "output_type": "display_data"
    }
   ],
   "source": [
    "scatter_df1.plot.scatter(x = \"mileage\", y = \"price\")"
   ]
  },
  {
   "cell_type": "code",
   "execution_count": 23,
   "metadata": {},
   "outputs": [],
   "source": [
    "maderank = cars.groupby(\"made\")[[\"title\"]].count().sort_values(by = \"title\",ascending = False)\n",
    "samplesize = maderank.reset_index().head(16)"
   ]
  },
  {
   "cell_type": "code",
   "execution_count": 28,
   "metadata": {},
   "outputs": [
    {
     "data": {
      "image/png": "[encoded data removed]",
      "text/plain": [
       "<Figure size 432x288 with 1 Axes>"
      ]
     },
     "metadata": {
      "needs_background": "light"
     },
     "output_type": "display_data"
    }
   ],
   "source": [
    "sns.barplot(x=\"title\",y=\"made\",data = samplesize)\n",
    "plt.xlabel(\"Sample Size\")\n",
    "plt.ylabel(\"Make\")\n",
    "plt.title(\"Sample Size By Make\")\n",
    "plt.savefig(\"plots/ssize.pdf\")"
   ]
  },
  {
   "cell_type": "code",
   "execution_count": 16,
   "metadata": {},
   "outputs": [],
   "source": [
    "t10cars = cars.loc[cars[\"made\"].isin([\"Nissan\",\"Honda\", \"BMW\", \"Ford\", \"Toyota\", \"Mercedes-Benz\", \"Chevrolet\", \"Jeep\",\n",
    "                           \"Hyundai\", \"Lexus\"]) & (cars[\"year\"] > 2000)]"
   ]
  },
  {
   "cell_type": "code",
   "execution_count": 151,
   "metadata": {},
   "outputs": [
    {
     "data": {
      "text/plain": [
       "(38982, 16)"
      ]
     },
     "execution_count": 151,
     "metadata": {},
     "output_type": "execute_result"
    }
   ],
   "source": [
    "t10cars.shape"
   ]
  },
  {
   "cell_type": "code",
   "execution_count": 210,
   "metadata": {},
   "outputs": [],
   "source": [
    "pricemean = t10cars.groupby(\"made\")[[\"price\"]].mean().sort_values(by=\"price\", ascending = False)"
   ]
  },
  {
   "cell_type": "code",
   "execution_count": 221,
   "metadata": {},
   "outputs": [],
   "source": [
    "pricemean.reset_index(inplace=True)"
   ]
  },
  {
   "cell_type": "code",
   "execution_count": 211,
   "metadata": {},
   "outputs": [],
   "source": [
    "milemean = t10cars.groupby(\"made\")[[\"mileage\"]].mean().sort_values(by=\"mileage\", ascending = False)"
   ]
  },
  {
   "cell_type": "code",
   "execution_count": 226,
   "metadata": {},
   "outputs": [],
   "source": [
    "milemean.reset_index(inplace=True)"
   ]
  },
  {
   "cell_type": "code",
   "execution_count": 225,
   "metadata": {},
   "outputs": [
    {
     "data": {
      "image/png": "[encoded data removed]",
      "text/plain": [
       "<Figure size 432x288 with 1 Axes>"
      ]
     },
     "metadata": {},
     "output_type": "display_data"
    }
   ],
   "source": [
    "sns.barplot(x=\"made\",y=\"price\",data = pricemean)\n",
    "plt.xlabel(\"Make\")\n",
    "plt.ylabel(\"Price\")\n",
    "plt.title(\"Average Price By Make\")\n",
    "plt.savefig(\"plots/meanprice.pdf\")"
   ]
  },
  {
   "cell_type": "code",
   "execution_count": 229,
   "metadata": {},
   "outputs": [
    {
     "data": {
      "image/png": "[encoded data removed]",
      "text/plain": [
       "<Figure size 432x288 with 1 Axes>"
      ]
     },
     "metadata": {},
     "output_type": "display_data"
    }
   ],
   "source": [
    "sns.barplot(x=\"made\",y=\"mileage\",data = milemean)\n",
    "plt.xlabel(\"Mileage\")\n",
    "plt.ylabel(\"Price\")\n",
    "plt.title(\"Average Mileage By Make\")\n",
    "plt.savefig(\"plots/meanmile.pdf\")"
   ]
  },
  {
   "cell_type": "code",
   "execution_count": 17,
   "metadata": {},
   "outputs": [
    {
     "data": {
      "text/plain": [
       "(297, 16)"
      ]
     },
     "execution_count": 17,
     "metadata": {},
     "output_type": "execute_result"
    }
   ],
   "source": [
    "cars.loc[cars[\"year\"]<2000].shape"
   ]
  },
  {
   "cell_type": "code",
   "execution_count": 18,
   "metadata": {},
   "outputs": [],
   "source": [
    "t10 = t10cars[t10cars.groupby(\"year\").price.transform(lambda x: np.abs(x-x.mean())/x.std() < 3)]\n",
    "t10 = t10[t10.groupby(\"year\").mileage.transform(lambda x: np.abs(x-x.mean())/x.std() < 3)]"
   ]
  },
  {
   "cell_type": "code",
   "execution_count": 183,
   "metadata": {},
   "outputs": [
    {
     "data": {
      "text/plain": [
       "cty         4370\n",
       "drive       2125\n",
       "eng          892\n",
       "exter          0\n",
       "fuel           0\n",
       "hwy         4370\n",
       "inter       3992\n",
       "made           0\n",
       "mileage        0\n",
       "model          0\n",
       "price          0\n",
       "slreview    2929\n",
       "slrzip       668\n",
       "title          0\n",
       "tran         429\n",
       "year           0\n",
       "age            0\n",
       "dtype: int64"
      ]
     },
     "execution_count": 183,
     "metadata": {},
     "output_type": "execute_result"
    }
   ],
   "source": [
    "t10.isna().sum()"
   ]
  },
  {
   "cell_type": "code",
   "execution_count": 160,
   "metadata": {
    "scrolled": true
   },
   "outputs": [
    {
     "data": {
      "text/plain": [
       "<matplotlib.axes._subplots.AxesSubplot at 0x1a29d49080>"
      ]
     },
     "execution_count": 160,
     "metadata": {},
     "output_type": "execute_result"
    },
    {
     "data": {
      "image/png": "[encoded data removed]",
      "text/plain": [
       "<Figure size 432x288 with 1 Axes>"
      ]
     },
     "metadata": {
      "needs_background": "light"
     },
     "output_type": "display_data"
    }
   ],
   "source": [
    "t10.plot.scatter(x = \"year\", y = \"price\")"
   ]
  },
  {
   "cell_type": "code",
   "execution_count": 159,
   "metadata": {},
   "outputs": [
    {
     "data": {
      "text/plain": [
       "<matplotlib.axes._subplots.AxesSubplot at 0x1a29d746d8>"
      ]
     },
     "execution_count": 159,
     "metadata": {},
     "output_type": "execute_result"
    },
    {
     "data": {
      "image/png": "[encoded data removed]",
      "text/plain": [
       "<Figure size 432x288 with 1 Axes>"
      ]
     },
     "metadata": {
      "needs_background": "light"
     },
     "output_type": "display_data"
    }
   ],
   "source": [
    "t10.plot.scatter(x = \"mileage\", y = \"price\")"
   ]
  },
  {
   "cell_type": "code",
   "execution_count": 158,
   "metadata": {},
   "outputs": [
    {
     "data": {
      "text/plain": [
       "<matplotlib.axes._subplots.AxesSubplot at 0x1a222710b8>"
      ]
     },
     "execution_count": 158,
     "metadata": {},
     "output_type": "execute_result"
    },
    {
     "data": {
      "image/png": "[encoded data removed]",
      "text/plain": [
       "<Figure size 432x288 with 1 Axes>"
      ]
     },
     "metadata": {
      "needs_background": "light"
     },
     "output_type": "display_data"
    }
   ],
   "source": [
    "t10.boxplot(by = 'year', column = 'price')"
   ]
  },
  {
   "cell_type": "code",
   "execution_count": 19,
   "metadata": {},
   "outputs": [],
   "source": [
    "to10 = t10.drop(t10.loc[t10[\"price\"] == 1].index)"
   ]
  },
  {
   "cell_type": "code",
   "execution_count": 165,
   "metadata": {},
   "outputs": [],
   "source": [
    "t10.to_csv(\"t102.csv\",index=False)"
   ]
  },
  {
   "cell_type": "code",
   "execution_count": 692,
   "metadata": {},
   "outputs": [
    {
     "data": {
      "text/plain": [
       "made\n",
       "Nissan           4867\n",
       "Honda            4833\n",
       "BMW              4768\n",
       "Toyota           4636\n",
       "Ford             4588\n",
       "Mercedes-Benz    4070\n",
       "Chevrolet        3494\n",
       "Jeep             3214\n",
       "Hyundai          1864\n",
       "Lexus            1803\n",
       "Name: title, dtype: int64"
      ]
     },
     "execution_count": 692,
     "metadata": {},
     "output_type": "execute_result"
    }
   ],
   "source": [
    "t10.groupby(\"made\")[\"title\"].count().sort_values(ascending = False)"
   ]
  },
  {
   "cell_type": "code",
   "execution_count": 329,
   "metadata": {},
   "outputs": [
    {
     "data": {
      "text/plain": [
       "model\n",
       "X5       769\n",
       "328      659\n",
       "X3       420\n",
       "535      322\n",
       "528      291\n",
       "X1       264\n",
       "428      251\n",
       "X6       201\n",
       "320      162\n",
       "335      118\n",
       "750      109\n",
       "430      102\n",
       "435       94\n",
       "650       91\n",
       "330       75\n",
       "M3        75\n",
       "550       72\n",
       "X2        67\n",
       "X4        51\n",
       "M4        49\n",
       "640       44\n",
       "530       44\n",
       "i3        37\n",
       "228       37\n",
       "440       35\n",
       "M5        34\n",
       "740       31\n",
       "340       30\n",
       "M6        28\n",
       "325       22\n",
       "        ... \n",
       "328d       7\n",
       "128        7\n",
       "135        6\n",
       "528i       5\n",
       "428i       5\n",
       "M2         5\n",
       "535i       4\n",
       "430i       4\n",
       "550i       3\n",
       "330e       3\n",
       "540i       3\n",
       "545        2\n",
       "M550       2\n",
       "M240       2\n",
       "745        2\n",
       "340I       2\n",
       "535d       2\n",
       "645        1\n",
       "530xi      1\n",
       "330I       1\n",
       "650i       1\n",
       "740e       1\n",
       "335i       1\n",
       "760        1\n",
       "AWD        1\n",
       "320i       1\n",
       "i          1\n",
       "3          1\n",
       "435I       1\n",
       "440I       1\n",
       "Name: title, Length: 68, dtype: int64"
      ]
     },
     "execution_count": 329,
     "metadata": {},
     "output_type": "execute_result"
    }
   ],
   "source": [
    "t10.loc[(t10[\"made\"] == \"BMW\")].groupby(\"model\")[\"title\"].count().sort_values(ascending = False)"
   ]
  },
  {
   "cell_type": "code",
   "execution_count": 20,
   "metadata": {},
   "outputs": [],
   "source": [
    "t10 = t10.assign(age = 2019 - t10[\"year\"])"
   ]
  },
  {
   "cell_type": "code",
   "execution_count": 21,
   "metadata": {},
   "outputs": [
    {
     "data": {
      "text/plain": [
       "(4810, 5)"
      ]
     },
     "execution_count": 21,
     "metadata": {},
     "output_type": "execute_result"
    }
   ],
   "source": [
    "honda = t10.loc[t10[\"made\"] == \"Honda\"][[\"age\", \"mileage\", \"price\", \"model\", \"exter\"]]\n",
    "honda.shape"
   ]
  },
  {
   "cell_type": "code",
   "execution_count": 22,
   "metadata": {},
   "outputs": [
    {
     "data": {
      "text/plain": [
       "(4717, 5)"
      ]
     },
     "execution_count": 22,
     "metadata": {},
     "output_type": "execute_result"
    }
   ],
   "source": [
    "honda = honda[honda.groupby(\"age\").price.transform(lambda x: np.abs(x-x.mean())/x.std() < 3)]\n",
    "honda = honda[honda.groupby(\"age\").mileage.transform(lambda x: np.abs(x-x.mean())/x.std() < 3)]\n",
    "honda.shape"
   ]
  },
  {
   "cell_type": "code",
   "execution_count": 126,
   "metadata": {},
   "outputs": [
    {
     "data": {
      "text/plain": [
       "<matplotlib.axes._subplots.AxesSubplot at 0x1a29723b70>"
      ]
     },
     "execution_count": 126,
     "metadata": {},
     "output_type": "execute_result"
    },
    {
     "data": {
      "image/png": "[encoded data removed]",
      "text/plain": [
       "<Figure size 432x288 with 1 Axes>"
      ]
     },
     "metadata": {
      "needs_background": "light"
     },
     "output_type": "display_data"
    }
   ],
   "source": [
    "honda.plot.scatter(x = \"age\", y = \"price\")"
   ]
  },
  {
   "cell_type": "code",
   "execution_count": 23,
   "metadata": {},
   "outputs": [],
   "source": [
    "X = honda.drop(\"price\", axis = 1)\n",
    "X =  X.assign(agesqrt = X.age**2)\n",
    "X = pd.get_dummies(X)\n",
    "y = honda[\"price\"]"
   ]
  },
  {
   "cell_type": "code",
   "execution_count": 27,
   "metadata": {},
   "outputs": [],
   "source": [
    "X_train, X_test, y_train, y_test = train_test_split(X,y,test_size=0.2, random_state=0)"
   ]
  },
  {
   "cell_type": "code",
   "execution_count": 28,
   "metadata": {},
   "outputs": [],
   "source": [
    "lm = linear_model.LinearRegression()"
   ]
  },
  {
   "cell_type": "code",
   "execution_count": 29,
   "metadata": {},
   "outputs": [],
   "source": [
    "model = lm.fit(X_train,y_train)"
   ]
  },
  {
   "cell_type": "code",
   "execution_count": 30,
   "metadata": {},
   "outputs": [
    {
     "data": {
      "text/plain": [
       "0.8286614803248618"
      ]
     },
     "execution_count": 30,
     "metadata": {},
     "output_type": "execute_result"
    }
   ],
   "source": [
    "model.score(X_test,y_test)"
   ]
  },
  {
   "cell_type": "code",
   "execution_count": 138,
   "metadata": {},
   "outputs": [],
   "source": [
    "y_pre = model.predict(X_train)"
   ]
  },
  {
   "cell_type": "code",
   "execution_count": 139,
   "metadata": {
    "scrolled": true
   },
   "outputs": [
    {
     "data": {
      "text/plain": [
       "array([ 9538.5123868 , 20369.11972553, 21132.36617267, 18604.61400241,\n",
       "        6135.02835442])"
      ]
     },
     "execution_count": 139,
     "metadata": {},
     "output_type": "execute_result"
    }
   ],
   "source": [
    "y_pre[0:5]"
   ]
  },
  {
   "cell_type": "code",
   "execution_count": 140,
   "metadata": {},
   "outputs": [
    {
     "data": {
      "text/plain": [
       "15979     5995\n",
       "15888    17995\n",
       "183      13990\n",
       "14756    16995\n",
       "14940     6795\n",
       "Name: price, dtype: int64"
      ]
     },
     "execution_count": 140,
     "metadata": {},
     "output_type": "execute_result"
    }
   ],
   "source": [
    "y_train[0:5]"
   ]
  },
  {
   "cell_type": "code",
   "execution_count": 141,
   "metadata": {},
   "outputs": [
    {
     "data": {
      "text/plain": [
       "array([-2.20026296e+03, -5.01805685e-02, -2.65325455e+03, -1.07318353e+02,\n",
       "       -4.57132335e+03, -4.05468772e+03,  1.52674941e+03,  1.15473732e+03,\n",
       "        1.15301518e+03,  4.42094464e+02, -4.92858277e+03, -2.92723526e+03,\n",
       "       -5.39458177e+03,  2.33642815e+03,  4.76073156e+03,  4.74080795e+03,\n",
       "        8.52241973e+03,  7.71671645e+01])"
      ]
     },
     "execution_count": 141,
     "metadata": {},
     "output_type": "execute_result"
    }
   ],
   "source": [
    "model.coef_"
   ]
  },
  {
   "cell_type": "code",
   "execution_count": 231,
   "metadata": {},
   "outputs": [
    {
     "data": {
      "text/plain": [
       "-0.05018056851693634"
      ]
     },
     "execution_count": 231,
     "metadata": {},
     "output_type": "execute_result"
    }
   ],
   "source": [
    "model.coef_[1]"
   ]
  },
  {
   "cell_type": "code",
   "execution_count": 230,
   "metadata": {},
   "outputs": [
    {
     "data": {
      "text/plain": [
       "-2200.2629552294566"
      ]
     },
     "execution_count": 230,
     "metadata": {},
     "output_type": "execute_result"
    }
   ],
   "source": [
    "model.coef_[0] + model.coef_[-1]"
   ]
  },
  {
   "cell_type": "code",
   "execution_count": 167,
   "metadata": {},
   "outputs": [
    {
     "data": {
      "text/plain": [
       "28306.946543350023"
      ]
     },
     "execution_count": 167,
     "metadata": {},
     "output_type": "execute_result"
    }
   ],
   "source": [
    "model.intercept_"
   ]
  },
  {
   "cell_type": "code",
   "execution_count": 144,
   "metadata": {},
   "outputs": [
    {
     "data": {
      "text/plain": [
       "2677.6935890076024"
      ]
     },
     "execution_count": 144,
     "metadata": {},
     "output_type": "execute_result"
    }
   ],
   "source": [
    "RMSE = np.sqrt(mean_squared_error(y_train, y_pre))\n",
    "RMSE"
   ]
  },
  {
   "cell_type": "code",
   "execution_count": null,
   "metadata": {},
   "outputs": [],
   "source": [
    "import statsmodels.api as sm"
   ]
  },
  {
   "cell_type": "code",
   "execution_count": 338,
   "metadata": {},
   "outputs": [],
   "source": [
    "mmake = t10[\"made\"] == \"BMW\"\n",
    "mmodel = t10[\"model\"] == \"X5\"\n",
    "mexter = t10[\"exter\"].isin([\"Black\", \"Gray\", \"Silver\", \"White\", \"Blue\", \"Red\"])\n",
    "X2 = t10.loc[mmake&mmodel&mexter][[\"age\", \"mileage\", \"price\", \"exter\"]].drop(\"price\", axis = 1)\n",
    "y2 = t10.loc[mmake&mmodel&mexter][\"price\"]"
   ]
  },
  {
   "cell_type": "code",
   "execution_count": 339,
   "metadata": {},
   "outputs": [
    {
     "data": {
      "text/plain": [
       "exter\n",
       "Black     266\n",
       "Blue       65\n",
       "Gray       99\n",
       "Red         6\n",
       "Silver     69\n",
       "White     181\n",
       "Name: mileage, dtype: int64"
      ]
     },
     "execution_count": 339,
     "metadata": {},
     "output_type": "execute_result"
    }
   ],
   "source": [
    "X2.groupby(\"exter\")[\"mileage\"].count()"
   ]
  },
  {
   "cell_type": "code",
   "execution_count": 331,
   "metadata": {},
   "outputs": [],
   "source": [
    "X2 = pd.get_dummies(X2)"
   ]
  },
  {
   "cell_type": "code",
   "execution_count": 332,
   "metadata": {},
   "outputs": [],
   "source": [
    "model = sm.OLS(y2,X2).fit()"
   ]
  },
  {
   "cell_type": "code",
   "execution_count": 333,
   "metadata": {
    "scrolled": true
   },
   "outputs": [
    {
     "data": {
      "text/html": [
       "<table class=\"simpletable\">\n",
       "<caption>OLS Regression Results</caption>\n",
       "<tr>\n",
       "  <th>Dep. Variable:</th>          <td>price</td>      <th>  R-squared:         </th> <td>   0.814</td> \n",
       "</tr>\n",
       "<tr>\n",
       "  <th>Model:</th>                   <td>OLS</td>       <th>  Adj. R-squared:    </th> <td>   0.812</td> \n",
       "</tr>\n",
       "<tr>\n",
       "  <th>Method:</th>             <td>Least Squares</td>  <th>  F-statistic:       </th> <td>   424.0</td> \n",
       "</tr>\n",
       "<tr>\n",
       "  <th>Date:</th>             <td>Mon, 11 Feb 2019</td> <th>  Prob (F-statistic):</th> <td>8.31e-243</td>\n",
       "</tr>\n",
       "<tr>\n",
       "  <th>Time:</th>                 <td>22:45:24</td>     <th>  Log-Likelihood:    </th> <td> -6927.9</td> \n",
       "</tr>\n",
       "<tr>\n",
       "  <th>No. Observations:</th>      <td>   686</td>      <th>  AIC:               </th> <td>1.387e+04</td>\n",
       "</tr>\n",
       "<tr>\n",
       "  <th>Df Residuals:</th>          <td>   678</td>      <th>  BIC:               </th> <td>1.391e+04</td>\n",
       "</tr>\n",
       "<tr>\n",
       "  <th>Df Model:</th>              <td>     7</td>      <th>                     </th>     <td> </td>    \n",
       "</tr>\n",
       "<tr>\n",
       "  <th>Covariance Type:</th>      <td>nonrobust</td>    <th>                     </th>     <td> </td>    \n",
       "</tr>\n",
       "</table>\n",
       "<table class=\"simpletable\">\n",
       "<tr>\n",
       "        <td></td>          <th>coef</th>     <th>std err</th>      <th>t</th>      <th>P>|t|</th>  <th>[0.025</th>    <th>0.975]</th>  \n",
       "</tr>\n",
       "<tr>\n",
       "  <th>age</th>          <td>-2157.9018</td> <td>  146.272</td> <td>  -14.753</td> <td> 0.000</td> <td>-2445.103</td> <td>-1870.700</td>\n",
       "</tr>\n",
       "<tr>\n",
       "  <th>mileage</th>      <td>   -0.2265</td> <td>    0.013</td> <td>  -16.973</td> <td> 0.000</td> <td>   -0.253</td> <td>   -0.200</td>\n",
       "</tr>\n",
       "<tr>\n",
       "  <th>exter_Black</th>  <td> 5.403e+04</td> <td>  516.601</td> <td>  104.590</td> <td> 0.000</td> <td>  5.3e+04</td> <td>  5.5e+04</td>\n",
       "</tr>\n",
       "<tr>\n",
       "  <th>exter_Blue</th>   <td> 5.395e+04</td> <td>  824.530</td> <td>   65.428</td> <td> 0.000</td> <td> 5.23e+04</td> <td> 5.56e+04</td>\n",
       "</tr>\n",
       "<tr>\n",
       "  <th>exter_Gray</th>   <td> 5.277e+04</td> <td>  742.620</td> <td>   71.059</td> <td> 0.000</td> <td> 5.13e+04</td> <td> 5.42e+04</td>\n",
       "</tr>\n",
       "<tr>\n",
       "  <th>exter_Red</th>    <td> 5.545e+04</td> <td> 2529.158</td> <td>   21.924</td> <td> 0.000</td> <td> 5.05e+04</td> <td> 6.04e+04</td>\n",
       "</tr>\n",
       "<tr>\n",
       "  <th>exter_Silver</th> <td> 5.277e+04</td> <td>  811.120</td> <td>   65.055</td> <td> 0.000</td> <td> 5.12e+04</td> <td> 5.44e+04</td>\n",
       "</tr>\n",
       "<tr>\n",
       "  <th>exter_White</th>  <td> 5.311e+04</td> <td>  563.706</td> <td>   94.212</td> <td> 0.000</td> <td>  5.2e+04</td> <td> 5.42e+04</td>\n",
       "</tr>\n",
       "</table>\n",
       "<table class=\"simpletable\">\n",
       "<tr>\n",
       "  <th>Omnibus:</th>       <td>179.925</td> <th>  Durbin-Watson:     </th> <td>   1.886</td> \n",
       "</tr>\n",
       "<tr>\n",
       "  <th>Prob(Omnibus):</th> <td> 0.000</td>  <th>  Jarque-Bera (JB):  </th> <td> 518.133</td> \n",
       "</tr>\n",
       "<tr>\n",
       "  <th>Skew:</th>          <td> 1.284</td>  <th>  Prob(JB):          </th> <td>3.08e-113</td>\n",
       "</tr>\n",
       "<tr>\n",
       "  <th>Kurtosis:</th>      <td> 6.395</td>  <th>  Cond. No.          </th> <td>6.41e+05</td> \n",
       "</tr>\n",
       "</table><br/><br/>Warnings:<br/>[1] Standard Errors assume that the covariance matrix of the errors is correctly specified.<br/>[2] The condition number is large, 6.41e+05. This might indicate that there are<br/>strong multicollinearity or other numerical problems."
      ],
      "text/plain": [
       "<class 'statsmodels.iolib.summary.Summary'>\n",
       "\"\"\"\n",
       "                            OLS Regression Results                            \n",
       "==============================================================================\n",
       "Dep. Variable:                  price   R-squared:                       0.814\n",
       "Model:                            OLS   Adj. R-squared:                  0.812\n",
       "Method:                 Least Squares   F-statistic:                     424.0\n",
       "Date:                Mon, 11 Feb 2019   Prob (F-statistic):          8.31e-243\n",
       "Time:                        22:45:24   Log-Likelihood:                -6927.9\n",
       "No. Observations:                 686   AIC:                         1.387e+04\n",
       "Df Residuals:                     678   BIC:                         1.391e+04\n",
       "Df Model:                           7                                         \n",
       "Covariance Type:            nonrobust                                         \n",
       "================================================================================\n",
       "                   coef    std err          t      P>|t|      [0.025      0.975]\n",
       "--------------------------------------------------------------------------------\n",
       "age          -2157.9018    146.272    -14.753      0.000   -2445.103   -1870.700\n",
       "mileage         -0.2265      0.013    -16.973      0.000      -0.253      -0.200\n",
       "exter_Black   5.403e+04    516.601    104.590      0.000     5.3e+04     5.5e+04\n",
       "exter_Blue    5.395e+04    824.530     65.428      0.000    5.23e+04    5.56e+04\n",
       "exter_Gray    5.277e+04    742.620     71.059      0.000    5.13e+04    5.42e+04\n",
       "exter_Red     5.545e+04   2529.158     21.924      0.000    5.05e+04    6.04e+04\n",
       "exter_Silver  5.277e+04    811.120     65.055      0.000    5.12e+04    5.44e+04\n",
       "exter_White   5.311e+04    563.706     94.212      0.000     5.2e+04    5.42e+04\n",
       "==============================================================================\n",
       "Omnibus:                      179.925   Durbin-Watson:                   1.886\n",
       "Prob(Omnibus):                  0.000   Jarque-Bera (JB):              518.133\n",
       "Skew:                           1.284   Prob(JB):                    3.08e-113\n",
       "Kurtosis:                       6.395   Cond. No.                     6.41e+05\n",
       "==============================================================================\n",
       "\n",
       "Warnings:\n",
       "[1] Standard Errors assume that the covariance matrix of the errors is correctly specified.\n",
       "[2] The condition number is large, 6.41e+05. This might indicate that there are\n",
       "strong multicollinearity or other numerical problems.\n",
       "\"\"\""
      ]
     },
     "execution_count": 333,
     "metadata": {},
     "output_type": "execute_result"
    }
   ],
   "source": [
    "model.summary()"
   ]
  },
  {
   "cell_type": "code",
   "execution_count": 334,
   "metadata": {},
   "outputs": [
    {
     "data": {
      "text/plain": [
       "exter_Red       55448.674875\n",
       "exter_Black     54031.467604\n",
       "exter_Blue      53947.020206\n",
       "exter_White     53107.832909\n",
       "exter_Gray      52770.089981\n",
       "exter_Silver    52767.417055\n",
       "mileage            -0.226528\n",
       "age             -2157.901757\n",
       "dtype: float64"
      ]
     },
     "execution_count": 334,
     "metadata": {},
     "output_type": "execute_result"
    }
   ],
   "source": [
    "model.params.sort_values(ascending = False)"
   ]
  },
  {
   "cell_type": "code",
   "execution_count": null,
   "metadata": {},
   "outputs": [],
   "source": []
  }
 ],
 "metadata": {
  "kernelspec": {
   "display_name": "Python 3",
   "language": "python",
   "name": "python3"
  },
  "language_info": {
   "codemirror_mode": {
    "name": "ipython",
    "version": 3
   },
   "file_extension": ".py",
   "mimetype": "text/x-python",
   "name": "python",
   "nbconvert_exporter": "python",
   "pygments_lexer": "ipython3",
   "version": "3.6.8"
  }
 },
 "nbformat": 4,
 "nbformat_minor": 2
}
