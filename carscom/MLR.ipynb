{
 "cells": [
  {
   "cell_type": "code",
   "execution_count": 1,
   "metadata": {},
   "outputs": [],
   "source": [
    "import pandas as pd\n",
    "import scipy as sp\n",
    "import numpy as np\n",
    "from matplotlib import pyplot as plt\n",
    "from sklearn import linear_model\n",
    "from sklearn.model_selection import train_test_split\n",
    "from sklearn.metrics import mean_squared_error, r2_score\n",
    "from sklearn.preprocessing import PolynomialFeatures\n",
    "from scipy import stats\n",
    "import re\n",
    "plt.style.use('ggplot')"
   ]
  },
  {
   "cell_type": "code",
   "execution_count": 2,
   "metadata": {},
   "outputs": [],
   "source": [
    "t10 = pd.read_csv(\"t10.csv\")"
   ]
  },
  {
   "cell_type": "code",
   "execution_count": 128,
   "metadata": {},
   "outputs": [],
   "source": [
    "made_lst = list(t10.groupby(\"made\").groups.keys())"
   ]
  },
  {
   "cell_type": "code",
   "execution_count": 4,
   "metadata": {},
   "outputs": [
    {
     "data": {
      "text/html": [
       "<div>\n",
       "<style scoped>\n",
       "    .dataframe tbody tr th:only-of-type {\n",
       "        vertical-align: middle;\n",
       "    }\n",
       "\n",
       "    .dataframe tbody tr th {\n",
       "        vertical-align: top;\n",
       "    }\n",
       "\n",
       "    .dataframe thead th {\n",
       "        text-align: right;\n",
       "    }\n",
       "</style>\n",
       "<table border=\"1\" class=\"dataframe\">\n",
       "  <thead>\n",
       "    <tr style=\"text-align: right;\">\n",
       "      <th></th>\n",
       "      <th>cty</th>\n",
       "      <th>drive</th>\n",
       "      <th>eng</th>\n",
       "      <th>exter</th>\n",
       "      <th>fuel</th>\n",
       "      <th>hwy</th>\n",
       "      <th>inter</th>\n",
       "      <th>made</th>\n",
       "      <th>mileage</th>\n",
       "      <th>model</th>\n",
       "      <th>price</th>\n",
       "      <th>slreview</th>\n",
       "      <th>slrzip</th>\n",
       "      <th>title</th>\n",
       "      <th>tran</th>\n",
       "      <th>year</th>\n",
       "      <th>age</th>\n",
       "    </tr>\n",
       "  </thead>\n",
       "  <tbody>\n",
       "    <tr>\n",
       "      <th>0</th>\n",
       "      <td>27.0</td>\n",
       "      <td>FWD</td>\n",
       "      <td>Gas I4 1.8L/110</td>\n",
       "      <td>Silver</td>\n",
       "      <td>Gasoline</td>\n",
       "      <td>35.0</td>\n",
       "      <td>NaN</td>\n",
       "      <td>Toyota</td>\n",
       "      <td>80135</td>\n",
       "      <td>Corolla</td>\n",
       "      <td>6990</td>\n",
       "      <td>2.1</td>\n",
       "      <td>7834.0</td>\n",
       "      <td>Used 2009 Toyota Corolla LE</td>\n",
       "      <td>Automatic</td>\n",
       "      <td>2009</td>\n",
       "      <td>10</td>\n",
       "    </tr>\n",
       "    <tr>\n",
       "      <th>1</th>\n",
       "      <td>24.0</td>\n",
       "      <td>FWD</td>\n",
       "      <td>Gas I4 2.4L/146</td>\n",
       "      <td>Red</td>\n",
       "      <td>Gasoline</td>\n",
       "      <td>33.0</td>\n",
       "      <td>NaN</td>\n",
       "      <td>Toyota</td>\n",
       "      <td>157470</td>\n",
       "      <td>Camry</td>\n",
       "      <td>4390</td>\n",
       "      <td>2.1</td>\n",
       "      <td>7834.0</td>\n",
       "      <td>Used 2006 Toyota Camry LE</td>\n",
       "      <td>5-Speed Automatic w/OD</td>\n",
       "      <td>2006</td>\n",
       "      <td>13</td>\n",
       "    </tr>\n",
       "    <tr>\n",
       "      <th>2</th>\n",
       "      <td>23.0</td>\n",
       "      <td>AWD</td>\n",
       "      <td>2.5L 4-Cylinder DOHC Dual VVT-i</td>\n",
       "      <td>Silver</td>\n",
       "      <td>Gasoline</td>\n",
       "      <td>30.0</td>\n",
       "      <td>Ash</td>\n",
       "      <td>Toyota</td>\n",
       "      <td>12001</td>\n",
       "      <td>RAV4</td>\n",
       "      <td>28997</td>\n",
       "      <td>4.6</td>\n",
       "      <td>6807.0</td>\n",
       "      <td>Used 2018 Toyota RAV4 XLE</td>\n",
       "      <td>6-Speed Automatic</td>\n",
       "      <td>2018</td>\n",
       "      <td>1</td>\n",
       "    </tr>\n",
       "    <tr>\n",
       "      <th>3</th>\n",
       "      <td>17.0</td>\n",
       "      <td>AWD</td>\n",
       "      <td>4.0L V6 SMPI DOHC</td>\n",
       "      <td>Silver</td>\n",
       "      <td>Gasoline</td>\n",
       "      <td>21.0</td>\n",
       "      <td>Bl Gr Sft Syn Lth</td>\n",
       "      <td>Toyota</td>\n",
       "      <td>5</td>\n",
       "      <td>4Runner</td>\n",
       "      <td>37639</td>\n",
       "      <td>4.6</td>\n",
       "      <td>6807.0</td>\n",
       "      <td>Used 2018 Toyota 4Runner SR5 Premium</td>\n",
       "      <td>5-Speed Automatic with Overdrive</td>\n",
       "      <td>2018</td>\n",
       "      <td>1</td>\n",
       "    </tr>\n",
       "    <tr>\n",
       "      <th>4</th>\n",
       "      <td>13.0</td>\n",
       "      <td>AWD</td>\n",
       "      <td>5.7L V8 DOHC Dual VVT-i 32V</td>\n",
       "      <td>Black</td>\n",
       "      <td>Gasoline</td>\n",
       "      <td>18.0</td>\n",
       "      <td>Terra Semi-Aniline Perfor</td>\n",
       "      <td>Toyota</td>\n",
       "      <td>201</td>\n",
       "      <td>Land</td>\n",
       "      <td>80997</td>\n",
       "      <td>4.6</td>\n",
       "      <td>6807.0</td>\n",
       "      <td>Used 2019 Toyota Land Cruiser Base</td>\n",
       "      <td>8-Speed Automatic (ECT-i)</td>\n",
       "      <td>2019</td>\n",
       "      <td>0</td>\n",
       "    </tr>\n",
       "  </tbody>\n",
       "</table>\n",
       "</div>"
      ],
      "text/plain": [
       "    cty drive                              eng   exter       fuel   hwy  \\\n",
       "0  27.0   FWD                  Gas I4 1.8L/110  Silver   Gasoline  35.0   \n",
       "1  24.0   FWD                  Gas I4 2.4L/146     Red   Gasoline  33.0   \n",
       "2  23.0   AWD  2.5L 4-Cylinder DOHC Dual VVT-i  Silver   Gasoline  30.0   \n",
       "3  17.0   AWD                4.0L V6 SMPI DOHC  Silver   Gasoline  21.0   \n",
       "4  13.0   AWD      5.7L V8 DOHC Dual VVT-i 32V   Black   Gasoline  18.0   \n",
       "\n",
       "                       inter    made  mileage    model  price  slreview  \\\n",
       "0                        NaN  Toyota    80135  Corolla   6990       2.1   \n",
       "1                        NaN  Toyota   157470    Camry   4390       2.1   \n",
       "2                        Ash  Toyota    12001     RAV4  28997       4.6   \n",
       "3          Bl Gr Sft Syn Lth  Toyota        5  4Runner  37639       4.6   \n",
       "4  Terra Semi-Aniline Perfor  Toyota      201     Land  80997       4.6   \n",
       "\n",
       "   slrzip                                 title  \\\n",
       "0  7834.0           Used 2009 Toyota Corolla LE   \n",
       "1  7834.0             Used 2006 Toyota Camry LE   \n",
       "2  6807.0             Used 2018 Toyota RAV4 XLE   \n",
       "3  6807.0  Used 2018 Toyota 4Runner SR5 Premium   \n",
       "4  6807.0    Used 2019 Toyota Land Cruiser Base   \n",
       "\n",
       "                               tran  year  age  \n",
       "0                         Automatic  2009   10  \n",
       "1            5-Speed Automatic w/OD  2006   13  \n",
       "2                 6-Speed Automatic  2018    1  \n",
       "3  5-Speed Automatic with Overdrive  2018    1  \n",
       "4         8-Speed Automatic (ECT-i)  2019    0  "
      ]
     },
     "execution_count": 4,
     "metadata": {},
     "output_type": "execute_result"
    }
   ],
   "source": [
    "t10.head()"
   ]
  },
  {
   "cell_type": "code",
   "execution_count": 95,
   "metadata": {},
   "outputs": [],
   "source": [
    "def getdf (brand):\n",
    "    e = t10.loc[t10['made'] == brand][['age', 'mileage', 'price', 'model']]\n",
    "    e = e[e.groupby(\"age\").price.transform(lambda x: np.abs(x-x.mean())/x.std() < 3)]\n",
    "    e = e[e.groupby(\"age\").mileage.transform(lambda x: np.abs(x-x.mean())/x.std() < 3)]\n",
    "    e = pd.get_dummies(e)\n",
    "    return e"
   ]
  },
  {
   "cell_type": "code",
   "execution_count": 97,
   "metadata": {},
   "outputs": [],
   "source": [
    "BMW = getdf(\"BMW\")"
   ]
  },
  {
   "cell_type": "code",
   "execution_count": 93,
   "metadata": {},
   "outputs": [],
   "source": [
    "def spratedata(df):\n",
    "    X = df.drop('price', axis = 1)\n",
    "    X = X.assign(agesqrt = X.age**2)\n",
    "    y = df['price']\n",
    "    X_train, X_test, y_train, y_test = train_test_split(X,y,test_size=0.2, random_state=0)\n",
    "    return X_train, X_test, y_train, y_test"
   ]
  },
  {
   "cell_type": "code",
   "execution_count": 99,
   "metadata": {},
   "outputs": [
    {
     "data": {
      "text/html": [
       "<div>\n",
       "<style scoped>\n",
       "    .dataframe tbody tr th:only-of-type {\n",
       "        vertical-align: middle;\n",
       "    }\n",
       "\n",
       "    .dataframe tbody tr th {\n",
       "        vertical-align: top;\n",
       "    }\n",
       "\n",
       "    .dataframe thead th {\n",
       "        text-align: right;\n",
       "    }\n",
       "</style>\n",
       "<table border=\"1\" class=\"dataframe\">\n",
       "  <thead>\n",
       "    <tr style=\"text-align: right;\">\n",
       "      <th></th>\n",
       "      <th>age</th>\n",
       "      <th>mileage</th>\n",
       "      <th>price</th>\n",
       "      <th>model_128</th>\n",
       "      <th>model_135</th>\n",
       "      <th>model_228</th>\n",
       "      <th>model_230</th>\n",
       "      <th>model_3</th>\n",
       "      <th>model_320</th>\n",
       "      <th>model_320i</th>\n",
       "      <th>...</th>\n",
       "      <th>model_M6</th>\n",
       "      <th>model_X1</th>\n",
       "      <th>model_X2</th>\n",
       "      <th>model_X3</th>\n",
       "      <th>model_X4</th>\n",
       "      <th>model_X5</th>\n",
       "      <th>model_X6</th>\n",
       "      <th>model_Z4</th>\n",
       "      <th>model_i</th>\n",
       "      <th>model_i3</th>\n",
       "    </tr>\n",
       "  </thead>\n",
       "  <tbody>\n",
       "    <tr>\n",
       "      <th>242</th>\n",
       "      <td>10</td>\n",
       "      <td>91877</td>\n",
       "      <td>11634</td>\n",
       "      <td>0</td>\n",
       "      <td>0</td>\n",
       "      <td>0</td>\n",
       "      <td>0</td>\n",
       "      <td>0</td>\n",
       "      <td>0</td>\n",
       "      <td>0</td>\n",
       "      <td>...</td>\n",
       "      <td>0</td>\n",
       "      <td>0</td>\n",
       "      <td>0</td>\n",
       "      <td>0</td>\n",
       "      <td>0</td>\n",
       "      <td>1</td>\n",
       "      <td>0</td>\n",
       "      <td>0</td>\n",
       "      <td>0</td>\n",
       "      <td>0</td>\n",
       "    </tr>\n",
       "    <tr>\n",
       "      <th>243</th>\n",
       "      <td>5</td>\n",
       "      <td>90641</td>\n",
       "      <td>22000</td>\n",
       "      <td>0</td>\n",
       "      <td>0</td>\n",
       "      <td>0</td>\n",
       "      <td>0</td>\n",
       "      <td>0</td>\n",
       "      <td>0</td>\n",
       "      <td>0</td>\n",
       "      <td>...</td>\n",
       "      <td>0</td>\n",
       "      <td>0</td>\n",
       "      <td>0</td>\n",
       "      <td>0</td>\n",
       "      <td>0</td>\n",
       "      <td>1</td>\n",
       "      <td>0</td>\n",
       "      <td>0</td>\n",
       "      <td>0</td>\n",
       "      <td>0</td>\n",
       "    </tr>\n",
       "    <tr>\n",
       "      <th>244</th>\n",
       "      <td>4</td>\n",
       "      <td>66927</td>\n",
       "      <td>22000</td>\n",
       "      <td>0</td>\n",
       "      <td>0</td>\n",
       "      <td>0</td>\n",
       "      <td>0</td>\n",
       "      <td>0</td>\n",
       "      <td>0</td>\n",
       "      <td>0</td>\n",
       "      <td>...</td>\n",
       "      <td>0</td>\n",
       "      <td>0</td>\n",
       "      <td>0</td>\n",
       "      <td>0</td>\n",
       "      <td>0</td>\n",
       "      <td>0</td>\n",
       "      <td>0</td>\n",
       "      <td>0</td>\n",
       "      <td>0</td>\n",
       "      <td>0</td>\n",
       "    </tr>\n",
       "    <tr>\n",
       "      <th>245</th>\n",
       "      <td>3</td>\n",
       "      <td>45854</td>\n",
       "      <td>31995</td>\n",
       "      <td>0</td>\n",
       "      <td>0</td>\n",
       "      <td>0</td>\n",
       "      <td>0</td>\n",
       "      <td>0</td>\n",
       "      <td>0</td>\n",
       "      <td>0</td>\n",
       "      <td>...</td>\n",
       "      <td>0</td>\n",
       "      <td>0</td>\n",
       "      <td>0</td>\n",
       "      <td>0</td>\n",
       "      <td>0</td>\n",
       "      <td>0</td>\n",
       "      <td>0</td>\n",
       "      <td>0</td>\n",
       "      <td>0</td>\n",
       "      <td>0</td>\n",
       "    </tr>\n",
       "    <tr>\n",
       "      <th>246</th>\n",
       "      <td>3</td>\n",
       "      <td>32758</td>\n",
       "      <td>31995</td>\n",
       "      <td>0</td>\n",
       "      <td>0</td>\n",
       "      <td>0</td>\n",
       "      <td>0</td>\n",
       "      <td>0</td>\n",
       "      <td>0</td>\n",
       "      <td>0</td>\n",
       "      <td>...</td>\n",
       "      <td>0</td>\n",
       "      <td>0</td>\n",
       "      <td>0</td>\n",
       "      <td>0</td>\n",
       "      <td>0</td>\n",
       "      <td>0</td>\n",
       "      <td>0</td>\n",
       "      <td>0</td>\n",
       "      <td>0</td>\n",
       "      <td>0</td>\n",
       "    </tr>\n",
       "  </tbody>\n",
       "</table>\n",
       "<p>5 rows × 71 columns</p>\n",
       "</div>"
      ],
      "text/plain": [
       "     age  mileage  price  model_128  model_135  model_228  model_230  model_3  \\\n",
       "242   10    91877  11634          0          0          0          0        0   \n",
       "243    5    90641  22000          0          0          0          0        0   \n",
       "244    4    66927  22000          0          0          0          0        0   \n",
       "245    3    45854  31995          0          0          0          0        0   \n",
       "246    3    32758  31995          0          0          0          0        0   \n",
       "\n",
       "     model_320  model_320i    ...     model_M6  model_X1  model_X2  model_X3  \\\n",
       "242          0           0    ...            0         0         0         0   \n",
       "243          0           0    ...            0         0         0         0   \n",
       "244          0           0    ...            0         0         0         0   \n",
       "245          0           0    ...            0         0         0         0   \n",
       "246          0           0    ...            0         0         0         0   \n",
       "\n",
       "     model_X4  model_X5  model_X6  model_Z4  model_i  model_i3  \n",
       "242         0         1         0         0        0         0  \n",
       "243         0         1         0         0        0         0  \n",
       "244         0         0         0         0        0         0  \n",
       "245         0         0         0         0        0         0  \n",
       "246         0         0         0         0        0         0  \n",
       "\n",
       "[5 rows x 71 columns]"
      ]
     },
     "execution_count": 99,
     "metadata": {},
     "output_type": "execute_result"
    }
   ],
   "source": [
    "BMW.head()"
   ]
  },
  {
   "cell_type": "code",
   "execution_count": 107,
   "metadata": {},
   "outputs": [],
   "source": [
    "BMW_X = BMW.drop('price', axis = 1)\n",
    "BMW_X = BMW_X.assign(agesqrt = BMW_X.age**2)\n",
    "BMW_y = BMW['price']\n",
    "BMW_X_train, BMW_X_test, BMW_y_train, BMW_y_test = train_test_split(BMW_X,BMW_y,test_size=0.2, random_state=0)"
   ]
  },
  {
   "cell_type": "code",
   "execution_count": 108,
   "metadata": {},
   "outputs": [],
   "source": [
    "lm = linear_model.LinearRegression()\n",
    "BMW_model = lm.fit(BMW_X_train,BMW_y_train)"
   ]
  },
  {
   "cell_type": "code",
   "execution_count": 109,
   "metadata": {},
   "outputs": [
    {
     "data": {
      "text/plain": [
       "0.8779327787288941"
      ]
     },
     "execution_count": 109,
     "metadata": {},
     "output_type": "execute_result"
    }
   ],
   "source": [
    "BMW_model.score(BMW_X_test, BMW_y_test)"
   ]
  },
  {
   "cell_type": "code",
   "execution_count": 114,
   "metadata": {},
   "outputs": [
    {
     "data": {
      "text/plain": [
       "-5506.129471328685"
      ]
     },
     "execution_count": 114,
     "metadata": {},
     "output_type": "execute_result"
    }
   ],
   "source": [
    "BMW_model.coef_[0]+BMW_model.coef_[-1]"
   ]
  },
  {
   "cell_type": "code",
   "execution_count": 119,
   "metadata": {},
   "outputs": [],
   "source": [
    "def getmodel (brand):\n",
    "    e = t10.loc[t10['made'] == brand][['age', 'mileage', 'price', 'model']]\n",
    "    e = e[e.groupby(\"age\").price.transform(lambda x: np.abs(x-x.mean())/x.std() < 3)]\n",
    "    e = e[e.groupby(\"age\").mileage.transform(lambda x: np.abs(x-x.mean())/x.std() < 3)]\n",
    "    e = pd.get_dummies(e)\n",
    "    X = e.drop(\"price\", axis = 1)\n",
    "    X = X.assign(agesqrt = X.age**2)\n",
    "    y = e['price']\n",
    "    X_train, X_test, y_train, y_test = train_test_split(X,y,test_size=0.2, random_state=0)\n",
    "    lm = linear_model.LinearRegression()\n",
    "    model = lm.fit(X_train, y_train)\n",
    "    return model.score(X_test, y_test), model.coef_[0] + model.coef_[-1]"
   ]
  },
  {
   "cell_type": "code",
   "execution_count": 121,
   "metadata": {},
   "outputs": [],
   "source": [
    "def getmodel_woagesqrt (brand):\n",
    "    e = t10.loc[t10['made'] == brand][['age', 'mileage', 'price', 'model']]\n",
    "    e = e[e.groupby(\"age\").price.transform(lambda x: np.abs(x-x.mean())/x.std() < 3)]\n",
    "    e = e[e.groupby(\"age\").mileage.transform(lambda x: np.abs(x-x.mean())/x.std() < 3)]\n",
    "    e = pd.get_dummies(e)\n",
    "    X = e.drop(\"price\", axis = 1)\n",
    "    y = e['price']\n",
    "    X_train, X_test, y_train, y_test = train_test_split(X,y,test_size=0.2, random_state=0)\n",
    "    lm = linear_model.LinearRegression()\n",
    "    model = lm.fit(X_train, y_train)\n",
    "    return model.score(X_test, y_test), model.coef_[0]"
   ]
  },
  {
   "cell_type": "code",
   "execution_count": 131,
   "metadata": {},
   "outputs": [
    {
     "data": {
      "text/plain": [
       "(0.8320252599588952, -2152.134460701011)"
      ]
     },
     "execution_count": 131,
     "metadata": {},
     "output_type": "execute_result"
    }
   ],
   "source": [
    "getmodel(\"\")"
   ]
  },
  {
   "cell_type": "code",
   "execution_count": 132,
   "metadata": {},
   "outputs": [
    {
     "data": {
      "text/plain": [
       "(0.8205351173965031, -953.0238556925322)"
      ]
     },
     "execution_count": 132,
     "metadata": {},
     "output_type": "execute_result"
    }
   ],
   "source": [
    "getmodel_woagesqrt(\"Honda\")"
   ]
  },
  {
   "cell_type": "code",
   "execution_count": 129,
   "metadata": {},
   "outputs": [
    {
     "data": {
      "text/plain": [
       "['BMW',\n",
       " 'Chevrolet',\n",
       " 'Ford',\n",
       " 'Honda',\n",
       " 'Hyundai',\n",
       " 'Jeep',\n",
       " 'Lexus',\n",
       " 'Mercedes-Benz',\n",
       " 'Nissan',\n",
       " 'Toyota']"
      ]
     },
     "execution_count": 129,
     "metadata": {},
     "output_type": "execute_result"
    }
   ],
   "source": [
    "map()"
   ]
  },
  {
   "cell_type": "code",
   "execution_count": 140,
   "metadata": {},
   "outputs": [
    {
     "name": "stdout",
     "output_type": "stream",
     "text": [
      "BMW(0.8779327787288941, -5506.129471328685)\n",
      "Chevrolet(0.8087948585336119, -1694.2070082593234)\n",
      "Ford(0.7820649872097638, -1556.1679095654738)\n",
      "Honda(0.8320252599588952, -2152.134460701011)\n",
      "Hyundai(0.7522954272352842, -421.1348448537532)\n",
      "Jeep(0.7600589669544168, -1481.8788394055669)\n",
      "Lexus(0.8591510251217482, -4557.472701693688)\n",
      "Mercedes-Benz(0.8485240626887398, -5176.816151883961)\n",
      "Nissan(0.8100503636807886, -1170.0731448444187)\n",
      "Toyota(0.8103637859526494, -1194.7748747648325)\n"
     ]
    }
   ],
   "source": [
    "for i, e in enumerate(made_lst):\n",
    "    print(made_lst[i]+str(getmodel(e)))"
   ]
  },
  {
   "cell_type": "code",
   "execution_count": 141,
   "metadata": {},
   "outputs": [
    {
     "name": "stdout",
     "output_type": "stream",
     "text": [
      "BMW(0.8179163748602593, -2109.7389630910075)\n",
      "Chevrolet(0.8039174136910995, -1029.163202835425)\n",
      "Ford(0.7757884141782474, -1032.3854194844164)\n",
      "Honda(0.8205351173965031, -953.0238556925322)\n",
      "Hyundai(0.7537644549310939, -511.5661339795682)\n",
      "Jeep(0.7593300498601839, -982.9621808296453)\n",
      "Lexus(0.7856918510158866, -1705.488937066368)\n",
      "Mercedes-Benz(0.8223930183945802, -2453.8225735880096)\n",
      "Nissan(0.8066091729467673, -702.0867731348707)\n",
      "Toyota(0.8095084276533652, -888.9396285301241)\n"
     ]
    }
   ],
   "source": [
    "for i, e in enumerate(made_lst):\n",
    "    print(made_lst[i]+str(getmodel_woagesqrt(e)))"
   ]
  },
  {
   "cell_type": "code",
   "execution_count": null,
   "metadata": {},
   "outputs": [],
   "source": []
  }
 ],
 "metadata": {
  "kernelspec": {
   "display_name": "Python 3",
   "language": "python",
   "name": "python3"
  },
  "language_info": {
   "codemirror_mode": {
    "name": "ipython",
    "version": 3
   },
   "file_extension": ".py",
   "mimetype": "text/x-python",
   "name": "python",
   "nbconvert_exporter": "python",
   "pygments_lexer": "ipython3",
   "version": "3.7.1"
  }
 },
 "nbformat": 4,
 "nbformat_minor": 2
}
