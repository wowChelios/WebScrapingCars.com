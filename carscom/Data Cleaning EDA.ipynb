{
 "cells": [
  {
   "cell_type": "code",
   "execution_count": 471,
   "metadata": {},
   "outputs": [],
   "source": [
    "import pandas as pd\n",
    "import scipy as sp\n",
    "import numpy as np\n",
    "from matplotlib import pyplot as plt\n",
    "from sklearn import linear_model\n",
    "from sklearn.model_selection import train_test_split\n",
    "from sklearn.metrics import mean_squared_error, r2_score\n",
    "from sklearn.preprocessing import PolynomialFeatures\n",
    "from scipy import stats\n",
    "import re\n",
    "plt.style.use('ggplot')"
   ]
  },
  {
   "cell_type": "code",
   "execution_count": 3,
   "metadata": {},
   "outputs": [],
   "source": [
    "cars = pd.read_csv(\"cars.csv\")"
   ]
  },
  {
   "cell_type": "code",
   "execution_count": 4,
   "metadata": {},
   "outputs": [],
   "source": [
    "cars[\"drive\"] = cars[\"drive\"].str.strip()\n",
    "cars[\"title\"] = cars[\"title\"].str.strip()\n",
    "cars[\"exter\"] = cars[\"exter\"].str.strip()\n",
    "cars[\"inter\"] = cars[\"inter\"].str.strip()\n",
    "cars[\"made\"] = cars[\"made\"].str.strip()\n",
    "cars[\"model\"] = cars[\"model\"].str.strip()\n",
    "cars[\"eng\"] = cars[\"eng\"].str.strip()\n",
    "cars[\"tran\"] = cars[\"tran\"].str.strip()\n",
    "cars[\"mileage\"] = cars[\"mileage\"].str.strip()"
   ]
  },
  {
   "cell_type": "code",
   "execution_count": 21,
   "metadata": {},
   "outputs": [
    {
     "data": {
      "text/plain": [
       "56857"
      ]
     },
     "execution_count": 21,
     "metadata": {},
     "output_type": "execute_result"
    }
   ],
   "source": [
    "len(cars)"
   ]
  },
  {
   "cell_type": "code",
   "execution_count": 85,
   "metadata": {},
   "outputs": [
    {
     "data": {
      "text/html": [
       "<div>\n",
       "<style scoped>\n",
       "    .dataframe tbody tr th:only-of-type {\n",
       "        vertical-align: middle;\n",
       "    }\n",
       "\n",
       "    .dataframe tbody tr th {\n",
       "        vertical-align: top;\n",
       "    }\n",
       "\n",
       "    .dataframe thead th {\n",
       "        text-align: right;\n",
       "    }\n",
       "</style>\n",
       "<table border=\"1\" class=\"dataframe\">\n",
       "  <thead>\n",
       "    <tr style=\"text-align: right;\">\n",
       "      <th></th>\n",
       "      <th>cty</th>\n",
       "      <th>drive</th>\n",
       "      <th>eng</th>\n",
       "      <th>exter</th>\n",
       "      <th>fuel</th>\n",
       "      <th>hwy</th>\n",
       "      <th>inter</th>\n",
       "      <th>made</th>\n",
       "      <th>mileage</th>\n",
       "      <th>model</th>\n",
       "      <th>price</th>\n",
       "      <th>slreview</th>\n",
       "      <th>slrzip</th>\n",
       "      <th>title</th>\n",
       "      <th>tran</th>\n",
       "      <th>year</th>\n",
       "    </tr>\n",
       "  </thead>\n",
       "  <tbody>\n",
       "    <tr>\n",
       "      <th>0</th>\n",
       "      <td>27.0</td>\n",
       "      <td>FWD</td>\n",
       "      <td>Gas I4 1.8L/110</td>\n",
       "      <td>Silver</td>\n",
       "      <td>Gasoline</td>\n",
       "      <td>35.0</td>\n",
       "      <td>NaN</td>\n",
       "      <td>Toyota</td>\n",
       "      <td>80135</td>\n",
       "      <td>Corolla</td>\n",
       "      <td>6990</td>\n",
       "      <td>2.1</td>\n",
       "      <td>7834.0</td>\n",
       "      <td>Used 2009 Toyota Corolla LE</td>\n",
       "      <td>Automatic</td>\n",
       "      <td>2009</td>\n",
       "    </tr>\n",
       "    <tr>\n",
       "      <th>1</th>\n",
       "      <td>24.0</td>\n",
       "      <td>FWD</td>\n",
       "      <td>Gas I4 2.4L/146</td>\n",
       "      <td>Red</td>\n",
       "      <td>Gasoline</td>\n",
       "      <td>33.0</td>\n",
       "      <td>NaN</td>\n",
       "      <td>Toyota</td>\n",
       "      <td>157470</td>\n",
       "      <td>Camry</td>\n",
       "      <td>4390</td>\n",
       "      <td>2.1</td>\n",
       "      <td>7834.0</td>\n",
       "      <td>Used 2006 Toyota Camry LE</td>\n",
       "      <td>5-Speed Automatic w/OD</td>\n",
       "      <td>2006</td>\n",
       "    </tr>\n",
       "    <tr>\n",
       "      <th>2</th>\n",
       "      <td>23.0</td>\n",
       "      <td>AWD</td>\n",
       "      <td>2.5L 4-Cylinder DOHC Dual VVT-i</td>\n",
       "      <td>Silver</td>\n",
       "      <td>Gasoline</td>\n",
       "      <td>30.0</td>\n",
       "      <td>Ash</td>\n",
       "      <td>Toyota</td>\n",
       "      <td>12001</td>\n",
       "      <td>RAV4</td>\n",
       "      <td>28997</td>\n",
       "      <td>4.6</td>\n",
       "      <td>6807.0</td>\n",
       "      <td>Used 2018 Toyota RAV4 XLE</td>\n",
       "      <td>6-Speed Automatic</td>\n",
       "      <td>2018</td>\n",
       "    </tr>\n",
       "    <tr>\n",
       "      <th>3</th>\n",
       "      <td>17.0</td>\n",
       "      <td>AWD</td>\n",
       "      <td>4.0L V6 SMPI DOHC</td>\n",
       "      <td>Silver</td>\n",
       "      <td>Gasoline</td>\n",
       "      <td>21.0</td>\n",
       "      <td>Bl Gr Sft Syn Lth</td>\n",
       "      <td>Toyota</td>\n",
       "      <td>5</td>\n",
       "      <td>4Runner</td>\n",
       "      <td>37639</td>\n",
       "      <td>4.6</td>\n",
       "      <td>6807.0</td>\n",
       "      <td>Used 2018 Toyota 4Runner SR5 Premium</td>\n",
       "      <td>5-Speed Automatic with Overdrive</td>\n",
       "      <td>2018</td>\n",
       "    </tr>\n",
       "    <tr>\n",
       "      <th>4</th>\n",
       "      <td>13.0</td>\n",
       "      <td>AWD</td>\n",
       "      <td>5.7L V8 DOHC Dual VVT-i 32V</td>\n",
       "      <td>Black</td>\n",
       "      <td>Gasoline</td>\n",
       "      <td>18.0</td>\n",
       "      <td>Terra Semi-Aniline Perfor</td>\n",
       "      <td>Toyota</td>\n",
       "      <td>201</td>\n",
       "      <td>Land</td>\n",
       "      <td>80997</td>\n",
       "      <td>4.6</td>\n",
       "      <td>6807.0</td>\n",
       "      <td>Used 2019 Toyota Land Cruiser Base</td>\n",
       "      <td>8-Speed Automatic (ECT-i)</td>\n",
       "      <td>2019</td>\n",
       "    </tr>\n",
       "  </tbody>\n",
       "</table>\n",
       "</div>"
      ],
      "text/plain": [
       "    cty drive                              eng   exter       fuel   hwy  \\\n",
       "0  27.0   FWD                  Gas I4 1.8L/110  Silver   Gasoline  35.0   \n",
       "1  24.0   FWD                  Gas I4 2.4L/146     Red   Gasoline  33.0   \n",
       "2  23.0   AWD  2.5L 4-Cylinder DOHC Dual VVT-i  Silver   Gasoline  30.0   \n",
       "3  17.0   AWD                4.0L V6 SMPI DOHC  Silver   Gasoline  21.0   \n",
       "4  13.0   AWD      5.7L V8 DOHC Dual VVT-i 32V   Black   Gasoline  18.0   \n",
       "\n",
       "                       inter    made  mileage    model  price  slreview  \\\n",
       "0                        NaN  Toyota    80135  Corolla   6990       2.1   \n",
       "1                        NaN  Toyota   157470    Camry   4390       2.1   \n",
       "2                        Ash  Toyota    12001     RAV4  28997       4.6   \n",
       "3          Bl Gr Sft Syn Lth  Toyota        5  4Runner  37639       4.6   \n",
       "4  Terra Semi-Aniline Perfor  Toyota      201     Land  80997       4.6   \n",
       "\n",
       "   slrzip                                 title  \\\n",
       "0  7834.0           Used 2009 Toyota Corolla LE   \n",
       "1  7834.0             Used 2006 Toyota Camry LE   \n",
       "2  6807.0             Used 2018 Toyota RAV4 XLE   \n",
       "3  6807.0  Used 2018 Toyota 4Runner SR5 Premium   \n",
       "4  6807.0    Used 2019 Toyota Land Cruiser Base   \n",
       "\n",
       "                               tran  year  \n",
       "0                         Automatic  2009  \n",
       "1            5-Speed Automatic w/OD  2006  \n",
       "2                 6-Speed Automatic  2018  \n",
       "3  5-Speed Automatic with Overdrive  2018  \n",
       "4         8-Speed Automatic (ECT-i)  2019  "
      ]
     },
     "execution_count": 85,
     "metadata": {},
     "output_type": "execute_result"
    }
   ],
   "source": [
    "cars.head()"
   ]
  },
  {
   "cell_type": "code",
   "execution_count": 5,
   "metadata": {},
   "outputs": [],
   "source": [
    "cars[\"price\"].replace([\"Not Priced\",\"FWD\"], None, inplace = True)\n",
    "cars[\"price\"].replace({'\\$': '', ',': ''}, regex=True, inplace = True)\n",
    "cars[\"mileage\"].replace({',': ''}, regex=True, inplace = True)"
   ]
  },
  {
   "cell_type": "code",
   "execution_count": 17,
   "metadata": {},
   "outputs": [],
   "source": [
    "cars[\"mileage\"].replace(\"Not provided\", None, inplace = True)\n",
    "cars[\"price\"].replace([\"NaN\", 1], None, inplace = True)"
   ]
  },
  {
   "cell_type": "code",
   "execution_count": 22,
   "metadata": {
    "scrolled": true
   },
   "outputs": [],
   "source": [
    "cars[\"mileage\"] = cars[\"mileage\"].astype(int)\n",
    "cars[\"price\"] = cars[\"price\"].astype(int)"
   ]
  },
  {
   "cell_type": "code",
   "execution_count": 23,
   "metadata": {},
   "outputs": [
    {
     "data": {
      "text/plain": [
       "cty         8342\n",
       "drive       3426\n",
       "eng         1748\n",
       "exter          0\n",
       "fuel           0\n",
       "hwy         8342\n",
       "inter       5656\n",
       "made           0\n",
       "mileage        0\n",
       "model          0\n",
       "price          0\n",
       "slreview    4622\n",
       "slrzip      1173\n",
       "title          0\n",
       "tran        1003\n",
       "year           0\n",
       "dtype: int64"
      ]
     },
     "execution_count": 23,
     "metadata": {},
     "output_type": "execute_result"
    }
   ],
   "source": [
    "cars[\"exter\"].fillna(\"UNKNOW\", inplace = True)\n",
    "cars[\"price\"].dropna(how = \"any\", inplace = True)\n",
    "cars[\"mileage\"].dropna(inplace = True)\n",
    "cars = cars.loc[-cars[\"price\"].isna()]\n",
    "cars.isna().sum()"
   ]
  },
  {
   "cell_type": "code",
   "execution_count": 16,
   "metadata": {},
   "outputs": [
    {
     "data": {
      "text/plain": [
       "cty         float64\n",
       "drive        object\n",
       "eng          object\n",
       "exter        object\n",
       "fuel         object\n",
       "hwy         float64\n",
       "inter        object\n",
       "made         object\n",
       "mileage       int64\n",
       "model        object\n",
       "price        object\n",
       "slreview    float64\n",
       "slrzip      float64\n",
       "title        object\n",
       "tran         object\n",
       "year          int64\n",
       "dtype: object"
      ]
     },
     "execution_count": 16,
     "metadata": {},
     "output_type": "execute_result"
    }
   ],
   "source": [
    "cars.dtypes"
   ]
  },
  {
   "cell_type": "code",
   "execution_count": 10,
   "metadata": {},
   "outputs": [],
   "source": [
    "cars[\"drive\"].replace([\"4MATIC\", \"quattro\", \"Quattro AWD\", \"Four Wheel Drive\", \"All Wheel Drive\", \n",
    "                        \"All-Wheel Drive with Locking Differential\", \"All-Wheel Drive with Locking and Limited-Slip Differential\", \n",
    "                        \"ALL-WHEEL DRIVE\", \"4x4/4-wheel drive\", \"Four-Wheel Drive with Locking and Limited-Slip Differential\", \n",
    "                        \"4x4\", \"4WD\", \"4MATICA?\", \"4MATIC AWD\", \"4MATIC 4WD\", \"FOUR-WHEEL DRIVE\", \"Four-Wheel\",\n",
    "                        \"4x2\",\"4X2\", \"4X4\", \"CVT 7-Speed\", \"All-wheel Drive\"], \"AWD\", inplace = True)"
   ]
  },
  {
   "cell_type": "code",
   "execution_count": 11,
   "metadata": {},
   "outputs": [],
   "source": [
    "cars[\"drive\"].replace([\"Front-wheel Drive\", \"FrontTrak\", \"FRONT-WHEEL DRIVE\", \"Front Wheel Drive\", \"2WD\", \"Unspecified\",\n",
    "                        \"Front-Wheel Drive with Limited-Slip Differential\", \"Front-Wheel Drive\"], \"FWD\", inplace = True)"
   ]
  },
  {
   "cell_type": "code",
   "execution_count": 12,
   "metadata": {},
   "outputs": [
    {
     "data": {
      "text/plain": [
       "drive\n",
       "AWD    30751\n",
       "FWD    17875\n",
       "RWD     4807\n",
       "Name: title, dtype: int64"
      ]
     },
     "execution_count": 12,
     "metadata": {},
     "output_type": "execute_result"
    }
   ],
   "source": [
    "cars[\"drive\"].replace([\"Rear-wheel Drive\", \"Rear-Wheel Drive with Limited-Slip Differential\", \"4x2/2-wheel drive\", \n",
    "                        \"Rear-Wheel Drive\", \"Rear Wheel Drive\", \"Automatic 8-Speed\"], \"RWD\", inplace = True)\n",
    "cars.groupby(\"drive\")[\"title\"].count().sort_values(ascending = False)"
   ]
  },
  {
   "cell_type": "code",
   "execution_count": 13,
   "metadata": {},
   "outputs": [],
   "source": [
    "cars.loc[cars[\"exter\"].str.contains(\"White\"), \"exter\"] = \"White\"\n",
    "cars.loc[cars[\"exter\"].str.contains(\"Black\"), \"exter\"] = \"Black\"\n",
    "cars.loc[cars[\"exter\"].str.contains(\"Silver\"), \"exter\"] = \"Silver\"\n",
    "cars.loc[cars[\"exter\"].str.contains(\"Blue\"), \"exter\"] = \"Blue\"\n",
    "cars.loc[cars[\"exter\"].str.contains(\"Red\"), \"exter\"] = \"Red\"\n",
    "cars.loc[cars[\"exter\"].str.contains(\"Gray\"), \"exter\"] = \"Gray\"\n",
    "cars.loc[cars[\"exter\"].str.contains(\"Yellow\"), \"exter\"] = \"Yellow\"\n",
    "cars.loc[cars[\"exter\"].str.contains(\"Brown\"), \"exter\"] = \"Brown\"\n",
    "cars.loc[cars[\"exter\"].str.contains(\"Grey\"), \"exter\"] = \"Gray\""
   ]
  },
  {
   "cell_type": "code",
   "execution_count": 131,
   "metadata": {},
   "outputs": [],
   "source": [
    "scatter_df = cars.loc[(cars[\"year\"]>2000) & (cars[\"made\"] == \"Mercedes-Benz\")]\n",
    "scatter_df = scatter_df[[\"year\", \"price\"]]"
   ]
  },
  {
   "cell_type": "code",
   "execution_count": 132,
   "metadata": {},
   "outputs": [
    {
     "data": {
      "text/plain": [
       "<matplotlib.axes._subplots.AxesSubplot at 0x117a04470>"
      ]
     },
     "execution_count": 132,
     "metadata": {},
     "output_type": "execute_result"
    },
    {
     "data": {
      "image/png": "[encoded data removed]",
      "text/plain": [
       "<Figure size 432x288 with 1 Axes>"
      ]
     },
     "metadata": {
      "needs_background": "light"
     },
     "output_type": "display_data"
    }
   ],
   "source": [
    "scatter_df.plot.scatter(x = \"year\", y = \"price\")"
   ]
  },
  {
   "cell_type": "code",
   "execution_count": 123,
   "metadata": {},
   "outputs": [],
   "source": [
    "scatter_df1 = cars.loc[(cars[\"mileage\"]<200000) & (cars[\"price\"]<300000) & (cars[\"made\"] == \"Chevrolet\")]\n",
    "scatter_df1 = scatter_df1[[\"price\", \"mileage\"]]"
   ]
  },
  {
   "cell_type": "code",
   "execution_count": 124,
   "metadata": {},
   "outputs": [
    {
     "data": {
      "text/plain": [
       "<matplotlib.axes._subplots.AxesSubplot at 0x11a1e7908>"
      ]
     },
     "execution_count": 124,
     "metadata": {},
     "output_type": "execute_result"
    },
    {
     "data": {
      "image/png": "[encoded data removed]",
      "text/plain": [
       "<Figure size 432x288 with 1 Axes>"
      ]
     },
     "metadata": {
      "needs_background": "light"
     },
     "output_type": "display_data"
    }
   ],
   "source": [
    "scatter_df1.plot.scatter(x = \"mileage\", y = \"price\")"
   ]
  },
  {
   "cell_type": "code",
   "execution_count": 96,
   "metadata": {},
   "outputs": [
    {
     "data": {
      "text/plain": [
       "made\n",
       "Nissan           4931\n",
       "Honda            4890\n",
       "BMW              4886\n",
       "Ford             4767\n",
       "Toyota           4728\n",
       "Mercedes-Benz    4557\n",
       "Chevrolet        3659\n",
       "Jeep             3256\n",
       "Hyundai          1881\n",
       "Lexus            1844\n",
       "Audi             1691\n",
       "Volkswagen       1684\n",
       "Dodge            1535\n",
       "Subaru           1432\n",
       "Acura            1374\n",
       "INFINITI         1361\n",
       "Kia              1122\n",
       "GMC               942\n",
       "Cadillac          889\n",
       "Mazda             846\n",
       "Porsche           622\n",
       "Land              610\n",
       "Volvo             573\n",
       "Chrysler          554\n",
       "RAM               544\n",
       "Lincoln           513\n",
       "Buick             408\n",
       "Mitsubishi        231\n",
       "MINI              219\n",
       "Maserati          139\n",
       "Jaguar            106\n",
       "Scion              42\n",
       "Ferrari            19\n",
       "Bentley             1\n",
       "Name: title, dtype: int64"
      ]
     },
     "execution_count": 96,
     "metadata": {},
     "output_type": "execute_result"
    }
   ],
   "source": [
    "cars.groupby(\"made\")[\"title\"].count().sort_values(ascending = False)"
   ]
  },
  {
   "cell_type": "code",
   "execution_count": 137,
   "metadata": {},
   "outputs": [],
   "source": [
    "t10cars = cars.loc[cars[\"made\"].isin([\"Nissan\",\"Honda\", \"BMW\", \"Ford\", \"Toyota\", \"Mercedes-Benz\", \"Chevrolet\", \"Jeep\",\n",
    "                           \"Hyundai\", \"Lexus\"]) & (cars[\"year\"] > 2000)]"
   ]
  },
  {
   "cell_type": "code",
   "execution_count": 140,
   "metadata": {},
   "outputs": [
    {
     "data": {
      "text/plain": [
       "(39145, 16)"
      ]
     },
     "execution_count": 140,
     "metadata": {},
     "output_type": "execute_result"
    }
   ],
   "source": [
    "t10cars.shape"
   ]
  },
  {
   "cell_type": "code",
   "execution_count": 138,
   "metadata": {},
   "outputs": [
    {
     "data": {
      "text/html": [
       "<div>\n",
       "<style scoped>\n",
       "    .dataframe tbody tr th:only-of-type {\n",
       "        vertical-align: middle;\n",
       "    }\n",
       "\n",
       "    .dataframe tbody tr th {\n",
       "        vertical-align: top;\n",
       "    }\n",
       "\n",
       "    .dataframe thead th {\n",
       "        text-align: right;\n",
       "    }\n",
       "</style>\n",
       "<table border=\"1\" class=\"dataframe\">\n",
       "  <thead>\n",
       "    <tr style=\"text-align: right;\">\n",
       "      <th></th>\n",
       "      <th>price</th>\n",
       "    </tr>\n",
       "    <tr>\n",
       "      <th>made</th>\n",
       "      <th></th>\n",
       "    </tr>\n",
       "  </thead>\n",
       "  <tbody>\n",
       "    <tr>\n",
       "      <th>Mercedes-Benz</th>\n",
       "      <td>34785.749116</td>\n",
       "    </tr>\n",
       "    <tr>\n",
       "      <th>BMW</th>\n",
       "      <td>29423.557996</td>\n",
       "    </tr>\n",
       "    <tr>\n",
       "      <th>Lexus</th>\n",
       "      <td>27323.713039</td>\n",
       "    </tr>\n",
       "    <tr>\n",
       "      <th>Jeep</th>\n",
       "      <td>21892.563580</td>\n",
       "    </tr>\n",
       "    <tr>\n",
       "      <th>Chevrolet</th>\n",
       "      <td>20964.959677</td>\n",
       "    </tr>\n",
       "    <tr>\n",
       "      <th>Ford</th>\n",
       "      <td>20082.759161</td>\n",
       "    </tr>\n",
       "    <tr>\n",
       "      <th>Toyota</th>\n",
       "      <td>19308.723858</td>\n",
       "    </tr>\n",
       "    <tr>\n",
       "      <th>Honda</th>\n",
       "      <td>17029.800287</td>\n",
       "    </tr>\n",
       "    <tr>\n",
       "      <th>Nissan</th>\n",
       "      <td>15587.341597</td>\n",
       "    </tr>\n",
       "    <tr>\n",
       "      <th>Hyundai</th>\n",
       "      <td>13840.535885</td>\n",
       "    </tr>\n",
       "  </tbody>\n",
       "</table>\n",
       "</div>"
      ],
      "text/plain": [
       "                      price\n",
       "made                       \n",
       "Mercedes-Benz  34785.749116\n",
       "BMW            29423.557996\n",
       "Lexus          27323.713039\n",
       "Jeep           21892.563580\n",
       "Chevrolet      20964.959677\n",
       "Ford           20082.759161\n",
       "Toyota         19308.723858\n",
       "Honda          17029.800287\n",
       "Nissan         15587.341597\n",
       "Hyundai        13840.535885"
      ]
     },
     "execution_count": 138,
     "metadata": {},
     "output_type": "execute_result"
    }
   ],
   "source": [
    "t10cars.groupby(\"made\")[[\"price\"]].mean().sort_values(by=\"price\", ascending = False)"
   ]
  },
  {
   "cell_type": "code",
   "execution_count": 139,
   "metadata": {},
   "outputs": [
    {
     "data": {
      "text/html": [
       "<div>\n",
       "<style scoped>\n",
       "    .dataframe tbody tr th:only-of-type {\n",
       "        vertical-align: middle;\n",
       "    }\n",
       "\n",
       "    .dataframe tbody tr th {\n",
       "        vertical-align: top;\n",
       "    }\n",
       "\n",
       "    .dataframe thead th {\n",
       "        text-align: right;\n",
       "    }\n",
       "</style>\n",
       "<table border=\"1\" class=\"dataframe\">\n",
       "  <thead>\n",
       "    <tr style=\"text-align: right;\">\n",
       "      <th></th>\n",
       "      <th>mileage</th>\n",
       "    </tr>\n",
       "    <tr>\n",
       "      <th>made</th>\n",
       "      <th></th>\n",
       "    </tr>\n",
       "  </thead>\n",
       "  <tbody>\n",
       "    <tr>\n",
       "      <th>Ford</th>\n",
       "      <td>54447.244228</td>\n",
       "    </tr>\n",
       "    <tr>\n",
       "      <th>Honda</th>\n",
       "      <td>50199.489737</td>\n",
       "    </tr>\n",
       "    <tr>\n",
       "      <th>Toyota</th>\n",
       "      <td>48629.179898</td>\n",
       "    </tr>\n",
       "    <tr>\n",
       "      <th>Jeep</th>\n",
       "      <td>48068.624383</td>\n",
       "    </tr>\n",
       "    <tr>\n",
       "      <th>Chevrolet</th>\n",
       "      <td>47085.892937</td>\n",
       "    </tr>\n",
       "    <tr>\n",
       "      <th>Hyundai</th>\n",
       "      <td>46106.657097</td>\n",
       "    </tr>\n",
       "    <tr>\n",
       "      <th>Nissan</th>\n",
       "      <td>46067.778297</td>\n",
       "    </tr>\n",
       "    <tr>\n",
       "      <th>Lexus</th>\n",
       "      <td>45712.770322</td>\n",
       "    </tr>\n",
       "    <tr>\n",
       "      <th>BMW</th>\n",
       "      <td>44764.901868</td>\n",
       "    </tr>\n",
       "    <tr>\n",
       "      <th>Mercedes-Benz</th>\n",
       "      <td>41239.842838</td>\n",
       "    </tr>\n",
       "  </tbody>\n",
       "</table>\n",
       "</div>"
      ],
      "text/plain": [
       "                    mileage\n",
       "made                       \n",
       "Ford           54447.244228\n",
       "Honda          50199.489737\n",
       "Toyota         48629.179898\n",
       "Jeep           48068.624383\n",
       "Chevrolet      47085.892937\n",
       "Hyundai        46106.657097\n",
       "Nissan         46067.778297\n",
       "Lexus          45712.770322\n",
       "BMW            44764.901868\n",
       "Mercedes-Benz  41239.842838"
      ]
     },
     "execution_count": 139,
     "metadata": {},
     "output_type": "execute_result"
    }
   ],
   "source": [
    "t10cars.groupby(\"made\")[[\"mileage\"]].mean().sort_values(by=\"mileage\", ascending = False)"
   ]
  },
  {
   "cell_type": "code",
   "execution_count": 134,
   "metadata": {},
   "outputs": [
    {
     "data": {
      "text/plain": [
       "(307, 16)"
      ]
     },
     "execution_count": 134,
     "metadata": {},
     "output_type": "execute_result"
    }
   ],
   "source": [
    "cars.loc[cars[\"year\"]<2000].shape"
   ]
  },
  {
   "cell_type": "code",
   "execution_count": 687,
   "metadata": {},
   "outputs": [],
   "source": [
    "t10 = t10cars[t10cars.groupby(\"year\").price.transform(lambda x: np.abs(x-x.mean())/x.std() < 3)]\n",
    "t10 = t10[t10.groupby(\"year\").mileage.transform(lambda x: np.abs(x-x.mean())/x.std() < 3)]"
   ]
  },
  {
   "cell_type": "code",
   "execution_count": 688,
   "metadata": {},
   "outputs": [
    {
     "data": {
      "text/plain": [
       "(38137, 16)"
      ]
     },
     "execution_count": 688,
     "metadata": {},
     "output_type": "execute_result"
    }
   ],
   "source": [
    "t10.shape"
   ]
  },
  {
   "cell_type": "code",
   "execution_count": 689,
   "metadata": {
    "scrolled": true
   },
   "outputs": [
    {
     "data": {
      "text/plain": [
       "<matplotlib.axes._subplots.AxesSubplot at 0x1a32635cc0>"
      ]
     },
     "execution_count": 689,
     "metadata": {},
     "output_type": "execute_result"
    },
    {
     "data": {
      "image/png": "[encoded data removed]",
      "text/plain": [
       "<Figure size 432x288 with 1 Axes>"
      ]
     },
     "metadata": {},
     "output_type": "display_data"
    }
   ],
   "source": [
    "t10.plot.scatter(x = \"year\", y = \"price\")"
   ]
  },
  {
   "cell_type": "code",
   "execution_count": 690,
   "metadata": {},
   "outputs": [
    {
     "data": {
      "text/plain": [
       "<matplotlib.axes._subplots.AxesSubplot at 0x1a32dbdb38>"
      ]
     },
     "execution_count": 690,
     "metadata": {},
     "output_type": "execute_result"
    },
    {
     "data": {
      "image/png": "[encoded data removed]",
      "text/plain": [
       "<Figure size 432x288 with 1 Axes>"
      ]
     },
     "metadata": {},
     "output_type": "display_data"
    }
   ],
   "source": [
    "t10.plot.scatter(x = \"mileage\", y = \"price\")"
   ]
  },
  {
   "cell_type": "code",
   "execution_count": 691,
   "metadata": {},
   "outputs": [
    {
     "data": {
      "text/plain": [
       "<matplotlib.axes._subplots.AxesSubplot at 0x1a32f4a198>"
      ]
     },
     "execution_count": 691,
     "metadata": {},
     "output_type": "execute_result"
    },
    {
     "data": {
      "image/png": "[encoded data removed]",
      "text/plain": [
       "<Figure size 432x288 with 1 Axes>"
      ]
     },
     "metadata": {},
     "output_type": "display_data"
    }
   ],
   "source": [
    "t10.boxplot(by = 'year', column = 'price')"
   ]
  },
  {
   "cell_type": "code",
   "execution_count": 537,
   "metadata": {},
   "outputs": [
    {
     "data": {
      "text/html": [
       "<div>\n",
       "<style scoped>\n",
       "    .dataframe tbody tr th:only-of-type {\n",
       "        vertical-align: middle;\n",
       "    }\n",
       "\n",
       "    .dataframe tbody tr th {\n",
       "        vertical-align: top;\n",
       "    }\n",
       "\n",
       "    .dataframe thead th {\n",
       "        text-align: right;\n",
       "    }\n",
       "</style>\n",
       "<table border=\"1\" class=\"dataframe\">\n",
       "  <thead>\n",
       "    <tr style=\"text-align: right;\">\n",
       "      <th></th>\n",
       "      <th>cty</th>\n",
       "      <th>drive</th>\n",
       "      <th>eng</th>\n",
       "      <th>exter</th>\n",
       "      <th>fuel</th>\n",
       "      <th>hwy</th>\n",
       "      <th>inter</th>\n",
       "      <th>made</th>\n",
       "      <th>mileage</th>\n",
       "      <th>model</th>\n",
       "      <th>price</th>\n",
       "      <th>slreview</th>\n",
       "      <th>slrzip</th>\n",
       "      <th>title</th>\n",
       "      <th>tran</th>\n",
       "      <th>year</th>\n",
       "    </tr>\n",
       "  </thead>\n",
       "  <tbody>\n",
       "    <tr>\n",
       "      <th>162</th>\n",
       "      <td>26.0</td>\n",
       "      <td>FWD</td>\n",
       "      <td>2.4L I4 16V MPFI DOHC</td>\n",
       "      <td>UNKNOW</td>\n",
       "      <td>Gasoline</td>\n",
       "      <td>34.0</td>\n",
       "      <td>NaN</td>\n",
       "      <td>Honda</td>\n",
       "      <td>139022</td>\n",
       "      <td>Accord</td>\n",
       "      <td>22995</td>\n",
       "      <td>3.3</td>\n",
       "      <td>6830.0</td>\n",
       "      <td>Used 2006 Honda Accord LX</td>\n",
       "      <td>5-Speed Automatic</td>\n",
       "      <td>2006</td>\n",
       "    </tr>\n",
       "    <tr>\n",
       "      <th>164</th>\n",
       "      <td>19.0</td>\n",
       "      <td>FWD</td>\n",
       "      <td>Gas V6 3.5L/212</td>\n",
       "      <td>UNKNOW</td>\n",
       "      <td>Gasoline</td>\n",
       "      <td>25.0</td>\n",
       "      <td>NaN</td>\n",
       "      <td>Honda</td>\n",
       "      <td>41278</td>\n",
       "      <td>Odyssey</td>\n",
       "      <td>25895</td>\n",
       "      <td>4.7</td>\n",
       "      <td>8857.0</td>\n",
       "      <td>Used 2006 Honda Odyssey EX</td>\n",
       "      <td>Automatic</td>\n",
       "      <td>2006</td>\n",
       "    </tr>\n",
       "    <tr>\n",
       "      <th>240</th>\n",
       "      <td>26.0</td>\n",
       "      <td>FWD</td>\n",
       "      <td>4 Cylinder</td>\n",
       "      <td>Black</td>\n",
       "      <td>Gasoline</td>\n",
       "      <td>34.0</td>\n",
       "      <td>NaN</td>\n",
       "      <td>Honda</td>\n",
       "      <td>124405</td>\n",
       "      <td>Accord</td>\n",
       "      <td>31300</td>\n",
       "      <td>4.7</td>\n",
       "      <td>7730.0</td>\n",
       "      <td>Used 2006 Honda Accord SE</td>\n",
       "      <td>Manual</td>\n",
       "      <td>2006</td>\n",
       "    </tr>\n",
       "    <tr>\n",
       "      <th>962</th>\n",
       "      <td>19.0</td>\n",
       "      <td>FWD</td>\n",
       "      <td>3.5L V6 Cylinder Engine</td>\n",
       "      <td>Gray</td>\n",
       "      <td>Gasoline</td>\n",
       "      <td>25.0</td>\n",
       "      <td>NaN</td>\n",
       "      <td>Honda</td>\n",
       "      <td>129970</td>\n",
       "      <td>Odyssey</td>\n",
       "      <td>15995</td>\n",
       "      <td>5.0</td>\n",
       "      <td>8840.0</td>\n",
       "      <td>Used 2006 Honda Odyssey EX</td>\n",
       "      <td>NaN</td>\n",
       "      <td>2006</td>\n",
       "    </tr>\n",
       "    <tr>\n",
       "      <th>1006</th>\n",
       "      <td>30.0</td>\n",
       "      <td>FWD</td>\n",
       "      <td>I-4 cyl</td>\n",
       "      <td>Gray</td>\n",
       "      <td>Gasoline</td>\n",
       "      <td>38.0</td>\n",
       "      <td>NaN</td>\n",
       "      <td>Honda</td>\n",
       "      <td>47455</td>\n",
       "      <td>Civic</td>\n",
       "      <td>24595</td>\n",
       "      <td>4.6</td>\n",
       "      <td>11542.0</td>\n",
       "      <td>Used 2006 Honda Civic LX</td>\n",
       "      <td>Automatic</td>\n",
       "      <td>2006</td>\n",
       "    </tr>\n",
       "    <tr>\n",
       "      <th>16946</th>\n",
       "      <td>NaN</td>\n",
       "      <td>AWD</td>\n",
       "      <td>3.5L V6 CYLINDER</td>\n",
       "      <td>Gray</td>\n",
       "      <td>Gasoline</td>\n",
       "      <td>NaN</td>\n",
       "      <td>Gray</td>\n",
       "      <td>Honda</td>\n",
       "      <td>83163</td>\n",
       "      <td>Ridgeline</td>\n",
       "      <td>13575</td>\n",
       "      <td>3.8</td>\n",
       "      <td>8882.0</td>\n",
       "      <td>Used 2006 Honda Ridgeline RTL with MOONROOF</td>\n",
       "      <td>5-Speed Automatic</td>\n",
       "      <td>2006</td>\n",
       "    </tr>\n",
       "    <tr>\n",
       "      <th>17747</th>\n",
       "      <td>19.0</td>\n",
       "      <td>FWD</td>\n",
       "      <td>3.5L V6 24V MPFI SOHC</td>\n",
       "      <td>Gray</td>\n",
       "      <td>Gasoline</td>\n",
       "      <td>25.0</td>\n",
       "      <td>NaN</td>\n",
       "      <td>Honda</td>\n",
       "      <td>203690</td>\n",
       "      <td>Odyssey</td>\n",
       "      <td>14500</td>\n",
       "      <td>3.1</td>\n",
       "      <td>11101.0</td>\n",
       "      <td>Used 2006 Honda Odyssey EX</td>\n",
       "      <td>5-Speed Automatic</td>\n",
       "      <td>2006</td>\n",
       "    </tr>\n",
       "    <tr>\n",
       "      <th>17883</th>\n",
       "      <td>17.0</td>\n",
       "      <td>AWD</td>\n",
       "      <td>Gas V6 3.5L/212</td>\n",
       "      <td>UNKNOW</td>\n",
       "      <td>Gasoline</td>\n",
       "      <td>22.0</td>\n",
       "      <td>NaN</td>\n",
       "      <td>Honda</td>\n",
       "      <td>153978</td>\n",
       "      <td>Pilot</td>\n",
       "      <td>20995</td>\n",
       "      <td>4.9</td>\n",
       "      <td>7631.0</td>\n",
       "      <td>Used 2006 Honda Pilot EX-L</td>\n",
       "      <td>5-Speed Automatic w/OD</td>\n",
       "      <td>2006</td>\n",
       "    </tr>\n",
       "  </tbody>\n",
       "</table>\n",
       "</div>"
      ],
      "text/plain": [
       "        cty drive                      eng   exter       fuel   hwy inter  \\\n",
       "162    26.0   FWD    2.4L I4 16V MPFI DOHC  UNKNOW   Gasoline  34.0   NaN   \n",
       "164    19.0   FWD          Gas V6 3.5L/212  UNKNOW   Gasoline  25.0   NaN   \n",
       "240    26.0   FWD               4 Cylinder   Black   Gasoline  34.0   NaN   \n",
       "962    19.0   FWD  3.5L V6 Cylinder Engine    Gray   Gasoline  25.0   NaN   \n",
       "1006   30.0   FWD                  I-4 cyl    Gray   Gasoline  38.0   NaN   \n",
       "16946   NaN   AWD         3.5L V6 CYLINDER    Gray   Gasoline   NaN  Gray   \n",
       "17747  19.0   FWD    3.5L V6 24V MPFI SOHC    Gray   Gasoline  25.0   NaN   \n",
       "17883  17.0   AWD          Gas V6 3.5L/212  UNKNOW   Gasoline  22.0   NaN   \n",
       "\n",
       "        made  mileage      model  price  slreview   slrzip  \\\n",
       "162    Honda   139022     Accord  22995       3.3   6830.0   \n",
       "164    Honda    41278    Odyssey  25895       4.7   8857.0   \n",
       "240    Honda   124405     Accord  31300       4.7   7730.0   \n",
       "962    Honda   129970    Odyssey  15995       5.0   8840.0   \n",
       "1006   Honda    47455      Civic  24595       4.6  11542.0   \n",
       "16946  Honda    83163  Ridgeline  13575       3.8   8882.0   \n",
       "17747  Honda   203690    Odyssey  14500       3.1  11101.0   \n",
       "17883  Honda   153978      Pilot  20995       4.9   7631.0   \n",
       "\n",
       "                                             title                    tran  \\\n",
       "162                      Used 2006 Honda Accord LX       5-Speed Automatic   \n",
       "164                     Used 2006 Honda Odyssey EX               Automatic   \n",
       "240                      Used 2006 Honda Accord SE                  Manual   \n",
       "962                     Used 2006 Honda Odyssey EX                     NaN   \n",
       "1006                      Used 2006 Honda Civic LX               Automatic   \n",
       "16946  Used 2006 Honda Ridgeline RTL with MOONROOF       5-Speed Automatic   \n",
       "17747                   Used 2006 Honda Odyssey EX       5-Speed Automatic   \n",
       "17883                   Used 2006 Honda Pilot EX-L  5-Speed Automatic w/OD   \n",
       "\n",
       "       year  \n",
       "162    2006  \n",
       "164    2006  \n",
       "240    2006  \n",
       "962    2006  \n",
       "1006   2006  \n",
       "16946  2006  \n",
       "17747  2006  \n",
       "17883  2006  "
      ]
     },
     "execution_count": 537,
     "metadata": {},
     "output_type": "execute_result"
    }
   ],
   "source": [
    "myear = t10['year'] == 2006\n",
    "mprice = t10['price'] > 10000\n",
    "mmade = t10['made'] == \"Honda\"\n",
    "t10.loc[myear & mprice & mmade]"
   ]
  },
  {
   "cell_type": "code",
   "execution_count": 692,
   "metadata": {},
   "outputs": [
    {
     "data": {
      "text/plain": [
       "made\n",
       "Nissan           4867\n",
       "Honda            4833\n",
       "BMW              4768\n",
       "Toyota           4636\n",
       "Ford             4588\n",
       "Mercedes-Benz    4070\n",
       "Chevrolet        3494\n",
       "Jeep             3214\n",
       "Hyundai          1864\n",
       "Lexus            1803\n",
       "Name: title, dtype: int64"
      ]
     },
     "execution_count": 692,
     "metadata": {},
     "output_type": "execute_result"
    }
   ],
   "source": [
    "t10.groupby(\"made\")[\"title\"].count().sort_values(ascending = False)"
   ]
  },
  {
   "cell_type": "code",
   "execution_count": 693,
   "metadata": {},
   "outputs": [
    {
     "data": {
      "text/plain": [
       "model\n",
       "Accord       1501\n",
       "CR-V         1038\n",
       "Civic        1010\n",
       "Pilot         532\n",
       "Odyssey       477\n",
       "HR-V          115\n",
       "Fit            84\n",
       "Ridgeline      33\n",
       "Crosstour      12\n",
       "Element        11\n",
       "Insight         6\n",
       "CR-Z            5\n",
       "S2000           4\n",
       "Clarity         3\n",
       "EX              2\n",
       "Name: title, dtype: int64"
      ]
     },
     "execution_count": 693,
     "metadata": {},
     "output_type": "execute_result"
    }
   ],
   "source": [
    "t10.loc[t10[\"made\"] == \"Honda\"].groupby(\"model\")[\"title\"].count().sort_values(ascending = False)"
   ]
  },
  {
   "cell_type": "code",
   "execution_count": 697,
   "metadata": {},
   "outputs": [],
   "source": [
    "t10 = t10.assign(age = 2019 - t10[\"year\"])"
   ]
  },
  {
   "cell_type": "code",
   "execution_count": 698,
   "metadata": {},
   "outputs": [
    {
     "data": {
      "text/plain": [
       "(4833, 4)"
      ]
     },
     "execution_count": 698,
     "metadata": {},
     "output_type": "execute_result"
    }
   ],
   "source": [
    "honda = t10.loc[t10[\"made\"] == \"Honda\"][[\"age\", \"mileage\", \"price\", \"model\"]]\n",
    "honda.shape"
   ]
  },
  {
   "cell_type": "code",
   "execution_count": 699,
   "metadata": {},
   "outputs": [
    {
     "data": {
      "text/plain": [
       "(4738, 4)"
      ]
     },
     "execution_count": 699,
     "metadata": {},
     "output_type": "execute_result"
    }
   ],
   "source": [
    "honda = honda[honda.groupby(\"age\").price.transform(lambda x: np.abs(x-x.mean())/x.std() < 3)]\n",
    "honda = honda[honda.groupby(\"age\").mileage.transform(lambda x: np.abs(x-x.mean())/x.std() < 3)]\n",
    "honda.shape"
   ]
  },
  {
   "cell_type": "code",
   "execution_count": 700,
   "metadata": {},
   "outputs": [
    {
     "data": {
      "text/plain": [
       "<matplotlib.axes._subplots.AxesSubplot at 0x1a33779e10>"
      ]
     },
     "execution_count": 700,
     "metadata": {},
     "output_type": "execute_result"
    },
    {
     "data": {
      "image/png": "[encoded data removed]",
      "text/plain": [
       "<Figure size 432x288 with 1 Axes>"
      ]
     },
     "metadata": {},
     "output_type": "display_data"
    }
   ],
   "source": [
    "honda.plot.scatter(x = \"age\", y = \"price\")"
   ]
  },
  {
   "cell_type": "code",
   "execution_count": 701,
   "metadata": {},
   "outputs": [],
   "source": [
    "honda = pd.get_dummies(honda)"
   ]
  },
  {
   "cell_type": "code",
   "execution_count": 702,
   "metadata": {},
   "outputs": [
    {
     "data": {
      "text/html": [
       "<div>\n",
       "<style scoped>\n",
       "    .dataframe tbody tr th:only-of-type {\n",
       "        vertical-align: middle;\n",
       "    }\n",
       "\n",
       "    .dataframe tbody tr th {\n",
       "        vertical-align: top;\n",
       "    }\n",
       "\n",
       "    .dataframe thead th {\n",
       "        text-align: right;\n",
       "    }\n",
       "</style>\n",
       "<table border=\"1\" class=\"dataframe\">\n",
       "  <thead>\n",
       "    <tr style=\"text-align: right;\">\n",
       "      <th></th>\n",
       "      <th>age</th>\n",
       "      <th>mileage</th>\n",
       "      <th>model_Accord</th>\n",
       "      <th>model_CR-V</th>\n",
       "      <th>model_CR-Z</th>\n",
       "      <th>model_Civic</th>\n",
       "      <th>model_Clarity</th>\n",
       "      <th>model_Crosstour</th>\n",
       "      <th>model_EX</th>\n",
       "      <th>model_Element</th>\n",
       "      <th>model_Fit</th>\n",
       "      <th>model_HR-V</th>\n",
       "      <th>model_Insight</th>\n",
       "      <th>model_Odyssey</th>\n",
       "      <th>model_Pilot</th>\n",
       "      <th>model_Ridgeline</th>\n",
       "      <th>model_S2000</th>\n",
       "      <th>agesqrt</th>\n",
       "    </tr>\n",
       "  </thead>\n",
       "  <tbody>\n",
       "    <tr>\n",
       "      <th>143</th>\n",
       "      <td>3</td>\n",
       "      <td>15053</td>\n",
       "      <td>1</td>\n",
       "      <td>0</td>\n",
       "      <td>0</td>\n",
       "      <td>0</td>\n",
       "      <td>0</td>\n",
       "      <td>0</td>\n",
       "      <td>0</td>\n",
       "      <td>0</td>\n",
       "      <td>0</td>\n",
       "      <td>0</td>\n",
       "      <td>0</td>\n",
       "      <td>0</td>\n",
       "      <td>0</td>\n",
       "      <td>0</td>\n",
       "      <td>0</td>\n",
       "      <td>9</td>\n",
       "    </tr>\n",
       "    <tr>\n",
       "      <th>144</th>\n",
       "      <td>3</td>\n",
       "      <td>26684</td>\n",
       "      <td>1</td>\n",
       "      <td>0</td>\n",
       "      <td>0</td>\n",
       "      <td>0</td>\n",
       "      <td>0</td>\n",
       "      <td>0</td>\n",
       "      <td>0</td>\n",
       "      <td>0</td>\n",
       "      <td>0</td>\n",
       "      <td>0</td>\n",
       "      <td>0</td>\n",
       "      <td>0</td>\n",
       "      <td>0</td>\n",
       "      <td>0</td>\n",
       "      <td>0</td>\n",
       "      <td>9</td>\n",
       "    </tr>\n",
       "    <tr>\n",
       "      <th>145</th>\n",
       "      <td>3</td>\n",
       "      <td>44096</td>\n",
       "      <td>1</td>\n",
       "      <td>0</td>\n",
       "      <td>0</td>\n",
       "      <td>0</td>\n",
       "      <td>0</td>\n",
       "      <td>0</td>\n",
       "      <td>0</td>\n",
       "      <td>0</td>\n",
       "      <td>0</td>\n",
       "      <td>0</td>\n",
       "      <td>0</td>\n",
       "      <td>0</td>\n",
       "      <td>0</td>\n",
       "      <td>0</td>\n",
       "      <td>0</td>\n",
       "      <td>9</td>\n",
       "    </tr>\n",
       "    <tr>\n",
       "      <th>146</th>\n",
       "      <td>2</td>\n",
       "      <td>18688</td>\n",
       "      <td>0</td>\n",
       "      <td>0</td>\n",
       "      <td>0</td>\n",
       "      <td>0</td>\n",
       "      <td>0</td>\n",
       "      <td>0</td>\n",
       "      <td>0</td>\n",
       "      <td>0</td>\n",
       "      <td>0</td>\n",
       "      <td>0</td>\n",
       "      <td>0</td>\n",
       "      <td>0</td>\n",
       "      <td>0</td>\n",
       "      <td>1</td>\n",
       "      <td>0</td>\n",
       "      <td>4</td>\n",
       "    </tr>\n",
       "    <tr>\n",
       "      <th>147</th>\n",
       "      <td>1</td>\n",
       "      <td>21353</td>\n",
       "      <td>0</td>\n",
       "      <td>0</td>\n",
       "      <td>0</td>\n",
       "      <td>0</td>\n",
       "      <td>0</td>\n",
       "      <td>0</td>\n",
       "      <td>0</td>\n",
       "      <td>0</td>\n",
       "      <td>0</td>\n",
       "      <td>1</td>\n",
       "      <td>0</td>\n",
       "      <td>0</td>\n",
       "      <td>0</td>\n",
       "      <td>0</td>\n",
       "      <td>0</td>\n",
       "      <td>1</td>\n",
       "    </tr>\n",
       "  </tbody>\n",
       "</table>\n",
       "</div>"
      ],
      "text/plain": [
       "     age  mileage  model_Accord  model_CR-V  model_CR-Z  model_Civic  \\\n",
       "143    3    15053             1           0           0            0   \n",
       "144    3    26684             1           0           0            0   \n",
       "145    3    44096             1           0           0            0   \n",
       "146    2    18688             0           0           0            0   \n",
       "147    1    21353             0           0           0            0   \n",
       "\n",
       "     model_Clarity  model_Crosstour  model_EX  model_Element  model_Fit  \\\n",
       "143              0                0         0              0          0   \n",
       "144              0                0         0              0          0   \n",
       "145              0                0         0              0          0   \n",
       "146              0                0         0              0          0   \n",
       "147              0                0         0              0          0   \n",
       "\n",
       "     model_HR-V  model_Insight  model_Odyssey  model_Pilot  model_Ridgeline  \\\n",
       "143           0              0              0            0                0   \n",
       "144           0              0              0            0                0   \n",
       "145           0              0              0            0                0   \n",
       "146           0              0              0            0                1   \n",
       "147           1              0              0            0                0   \n",
       "\n",
       "     model_S2000  agesqrt  \n",
       "143            0        9  \n",
       "144            0        9  \n",
       "145            0        9  \n",
       "146            0        4  \n",
       "147            0        1  "
      ]
     },
     "execution_count": 702,
     "metadata": {},
     "output_type": "execute_result"
    }
   ],
   "source": [
    "X.head()"
   ]
  },
  {
   "cell_type": "code",
   "execution_count": 703,
   "metadata": {},
   "outputs": [],
   "source": [
    "X = honda.drop(\"price\", axis = 1)"
   ]
  },
  {
   "cell_type": "code",
   "execution_count": 704,
   "metadata": {},
   "outputs": [],
   "source": [
    "X =  X.assign(agesqrt = X.age**2)"
   ]
  },
  {
   "cell_type": "code",
   "execution_count": 705,
   "metadata": {},
   "outputs": [],
   "source": [
    "y = honda[\"price\"]"
   ]
  },
  {
   "cell_type": "code",
   "execution_count": 706,
   "metadata": {},
   "outputs": [],
   "source": [
    "X_train, X_test, y_train, y_test = train_test_split(X,y,test_size=0.2, random_state=0)"
   ]
  },
  {
   "cell_type": "code",
   "execution_count": 722,
   "metadata": {},
   "outputs": [
    {
     "data": {
      "text/html": [
       "<div>\n",
       "<style scoped>\n",
       "    .dataframe tbody tr th:only-of-type {\n",
       "        vertical-align: middle;\n",
       "    }\n",
       "\n",
       "    .dataframe tbody tr th {\n",
       "        vertical-align: top;\n",
       "    }\n",
       "\n",
       "    .dataframe thead th {\n",
       "        text-align: right;\n",
       "    }\n",
       "</style>\n",
       "<table border=\"1\" class=\"dataframe\">\n",
       "  <thead>\n",
       "    <tr style=\"text-align: right;\">\n",
       "      <th></th>\n",
       "      <th>age</th>\n",
       "      <th>mileage</th>\n",
       "      <th>model_Accord</th>\n",
       "      <th>model_CR-V</th>\n",
       "      <th>model_CR-Z</th>\n",
       "      <th>model_Civic</th>\n",
       "      <th>model_Clarity</th>\n",
       "      <th>model_Crosstour</th>\n",
       "      <th>model_EX</th>\n",
       "      <th>model_Element</th>\n",
       "      <th>model_Fit</th>\n",
       "      <th>model_HR-V</th>\n",
       "      <th>model_Insight</th>\n",
       "      <th>model_Odyssey</th>\n",
       "      <th>model_Pilot</th>\n",
       "      <th>model_Ridgeline</th>\n",
       "      <th>model_S2000</th>\n",
       "      <th>agesqrt</th>\n",
       "    </tr>\n",
       "  </thead>\n",
       "  <tbody>\n",
       "    <tr>\n",
       "      <th>16023</th>\n",
       "      <td>1</td>\n",
       "      <td>23246</td>\n",
       "      <td>0</td>\n",
       "      <td>0</td>\n",
       "      <td>0</td>\n",
       "      <td>1</td>\n",
       "      <td>0</td>\n",
       "      <td>0</td>\n",
       "      <td>0</td>\n",
       "      <td>0</td>\n",
       "      <td>0</td>\n",
       "      <td>0</td>\n",
       "      <td>0</td>\n",
       "      <td>0</td>\n",
       "      <td>0</td>\n",
       "      <td>0</td>\n",
       "      <td>0</td>\n",
       "      <td>1</td>\n",
       "    </tr>\n",
       "    <tr>\n",
       "      <th>16925</th>\n",
       "      <td>3</td>\n",
       "      <td>25927</td>\n",
       "      <td>1</td>\n",
       "      <td>0</td>\n",
       "      <td>0</td>\n",
       "      <td>0</td>\n",
       "      <td>0</td>\n",
       "      <td>0</td>\n",
       "      <td>0</td>\n",
       "      <td>0</td>\n",
       "      <td>0</td>\n",
       "      <td>0</td>\n",
       "      <td>0</td>\n",
       "      <td>0</td>\n",
       "      <td>0</td>\n",
       "      <td>0</td>\n",
       "      <td>0</td>\n",
       "      <td>9</td>\n",
       "    </tr>\n",
       "    <tr>\n",
       "      <th>16375</th>\n",
       "      <td>3</td>\n",
       "      <td>30564</td>\n",
       "      <td>0</td>\n",
       "      <td>0</td>\n",
       "      <td>0</td>\n",
       "      <td>1</td>\n",
       "      <td>0</td>\n",
       "      <td>0</td>\n",
       "      <td>0</td>\n",
       "      <td>0</td>\n",
       "      <td>0</td>\n",
       "      <td>0</td>\n",
       "      <td>0</td>\n",
       "      <td>0</td>\n",
       "      <td>0</td>\n",
       "      <td>0</td>\n",
       "      <td>0</td>\n",
       "      <td>9</td>\n",
       "    </tr>\n",
       "    <tr>\n",
       "      <th>44585</th>\n",
       "      <td>3</td>\n",
       "      <td>15981</td>\n",
       "      <td>1</td>\n",
       "      <td>0</td>\n",
       "      <td>0</td>\n",
       "      <td>0</td>\n",
       "      <td>0</td>\n",
       "      <td>0</td>\n",
       "      <td>0</td>\n",
       "      <td>0</td>\n",
       "      <td>0</td>\n",
       "      <td>0</td>\n",
       "      <td>0</td>\n",
       "      <td>0</td>\n",
       "      <td>0</td>\n",
       "      <td>0</td>\n",
       "      <td>0</td>\n",
       "      <td>9</td>\n",
       "    </tr>\n",
       "    <tr>\n",
       "      <th>45190</th>\n",
       "      <td>4</td>\n",
       "      <td>40009</td>\n",
       "      <td>1</td>\n",
       "      <td>0</td>\n",
       "      <td>0</td>\n",
       "      <td>0</td>\n",
       "      <td>0</td>\n",
       "      <td>0</td>\n",
       "      <td>0</td>\n",
       "      <td>0</td>\n",
       "      <td>0</td>\n",
       "      <td>0</td>\n",
       "      <td>0</td>\n",
       "      <td>0</td>\n",
       "      <td>0</td>\n",
       "      <td>0</td>\n",
       "      <td>0</td>\n",
       "      <td>16</td>\n",
       "    </tr>\n",
       "  </tbody>\n",
       "</table>\n",
       "</div>"
      ],
      "text/plain": [
       "       age  mileage  model_Accord  model_CR-V  model_CR-Z  model_Civic  \\\n",
       "16023    1    23246             0           0           0            1   \n",
       "16925    3    25927             1           0           0            0   \n",
       "16375    3    30564             0           0           0            1   \n",
       "44585    3    15981             1           0           0            0   \n",
       "45190    4    40009             1           0           0            0   \n",
       "\n",
       "       model_Clarity  model_Crosstour  model_EX  model_Element  model_Fit  \\\n",
       "16023              0                0         0              0          0   \n",
       "16925              0                0         0              0          0   \n",
       "16375              0                0         0              0          0   \n",
       "44585              0                0         0              0          0   \n",
       "45190              0                0         0              0          0   \n",
       "\n",
       "       model_HR-V  model_Insight  model_Odyssey  model_Pilot  model_Ridgeline  \\\n",
       "16023           0              0              0            0                0   \n",
       "16925           0              0              0            0                0   \n",
       "16375           0              0              0            0                0   \n",
       "44585           0              0              0            0                0   \n",
       "45190           0              0              0            0                0   \n",
       "\n",
       "       model_S2000  agesqrt  \n",
       "16023            0        1  \n",
       "16925            0        9  \n",
       "16375            0        9  \n",
       "44585            0        9  \n",
       "45190            0       16  "
      ]
     },
     "execution_count": 722,
     "metadata": {},
     "output_type": "execute_result"
    }
   ],
   "source": [
    "X_train.head()"
   ]
  },
  {
   "cell_type": "code",
   "execution_count": 707,
   "metadata": {},
   "outputs": [],
   "source": [
    "lm = linear_model.LinearRegression()"
   ]
  },
  {
   "cell_type": "code",
   "execution_count": 712,
   "metadata": {},
   "outputs": [],
   "source": [
    "model = lm.fit(X_train,y_train)"
   ]
  },
  {
   "cell_type": "code",
   "execution_count": 714,
   "metadata": {},
   "outputs": [
    {
     "data": {
      "text/plain": [
       "0.8320252599588952"
      ]
     },
     "execution_count": 714,
     "metadata": {},
     "output_type": "execute_result"
    }
   ],
   "source": [
    "model.score(X_test,y_test)"
   ]
  },
  {
   "cell_type": "code",
   "execution_count": 715,
   "metadata": {},
   "outputs": [],
   "source": [
    "y_pre = model.predict(X_train)"
   ]
  },
  {
   "cell_type": "code",
   "execution_count": 716,
   "metadata": {},
   "outputs": [
    {
     "data": {
      "text/plain": [
       "array([20989.31935405, 18408.20136071, 16795.46608206, 18904.42753602,\n",
       "       16029.01282794])"
      ]
     },
     "execution_count": 716,
     "metadata": {},
     "output_type": "execute_result"
    }
   ],
   "source": [
    "y_pre[0:5]"
   ]
  },
  {
   "cell_type": "code",
   "execution_count": 717,
   "metadata": {},
   "outputs": [
    {
     "data": {
      "text/plain": [
       "16023    15900\n",
       "16925    19888\n",
       "16375    14500\n",
       "44585    18316\n",
       "45190    15485\n",
       "Name: price, dtype: int64"
      ]
     },
     "execution_count": 717,
     "metadata": {},
     "output_type": "execute_result"
    }
   ],
   "source": [
    "y_train[0:5]"
   ]
  },
  {
   "cell_type": "code",
   "execution_count": 720,
   "metadata": {},
   "outputs": [
    {
     "data": {
      "text/plain": [
       "array([-2.23138872e+03, -4.98920345e-02, -2.47208344e+03,  1.62134100e+02,\n",
       "       -4.80308145e+03, -3.85346936e+03, -8.13470405e+02,  1.56538148e+03,\n",
       "        1.38737673e+03,  1.25296304e+02, -4.29062941e+03, -2.79743587e+03,\n",
       "       -5.18733337e+03,  2.49079141e+03,  5.04008031e+03,  4.83011961e+03,\n",
       "        8.61632338e+03,  7.92542597e+01])"
      ]
     },
     "execution_count": 720,
     "metadata": {},
     "output_type": "execute_result"
    }
   ],
   "source": [
    "model.coef_"
   ]
  },
  {
   "cell_type": "code",
   "execution_count": 723,
   "metadata": {},
   "outputs": [
    {
     "data": {
      "text/plain": [
       "-2152.134460701011"
      ]
     },
     "execution_count": 723,
     "metadata": {},
     "output_type": "execute_result"
    }
   ],
   "source": [
    "model.coef_[0] + model.coef_[-1]"
   ]
  },
  {
   "cell_type": "code",
   "execution_count": 721,
   "metadata": {},
   "outputs": [
    {
     "data": {
      "text/plain": [
       "28154.713407019135"
      ]
     },
     "execution_count": 721,
     "metadata": {},
     "output_type": "execute_result"
    }
   ],
   "source": [
    "model.intercept_"
   ]
  },
  {
   "cell_type": "code",
   "execution_count": 568,
   "metadata": {},
   "outputs": [
    {
     "data": {
      "text/plain": [
       "2739.71032984457"
      ]
     },
     "execution_count": 568,
     "metadata": {},
     "output_type": "execute_result"
    }
   ],
   "source": [
    "RMSE = np.sqrt(mean_squared_error(y_train, y_pre))\n",
    "RMSE"
   ]
  },
  {
   "cell_type": "code",
   "execution_count": null,
   "metadata": {},
   "outputs": [],
   "source": []
  }
 ],
 "metadata": {
  "kernelspec": {
   "display_name": "Python 3",
   "language": "python",
   "name": "python3"
  },
  "language_info": {
   "codemirror_mode": {
    "name": "ipython",
    "version": 3
   },
   "file_extension": ".py",
   "mimetype": "text/x-python",
   "name": "python",
   "nbconvert_exporter": "python",
   "pygments_lexer": "ipython3",
   "version": "3.7.1"
  }
 },
 "nbformat": 4,
 "nbformat_minor": 2
}
