{
 "cells": [
  {
   "cell_type": "code",
   "execution_count": 1,
   "metadata": {},
   "outputs": [],
   "source": [
    "import pandas as pd\n",
    "import scipy as sp\n",
    "import numpy as np\n",
    "from matplotlib import pyplot as plt\n",
    "from sklearn import linear_model\n",
    "from sklearn.model_selection import train_test_split\n",
    "from sklearn.metrics import mean_squared_error, r2_score\n",
    "from sklearn.preprocessing import PolynomialFeatures\n",
    "from scipy import stats\n",
    "import re\n",
    "plt.style.use('ggplot')"
   ]
  },
  {
   "cell_type": "code",
   "execution_count": 94,
   "metadata": {},
   "outputs": [],
   "source": [
    "cars = pd.read_csv(\"cars.csv\")"
   ]
  },
  {
   "cell_type": "code",
   "execution_count": 95,
   "metadata": {},
   "outputs": [],
   "source": [
    "cars[\"drive\"] = cars[\"drive\"].str.strip()\n",
    "cars[\"title\"] = cars[\"title\"].str.strip()\n",
    "cars[\"exter\"] = cars[\"exter\"].str.strip()\n",
    "cars[\"inter\"] = cars[\"inter\"].str.strip()\n",
    "cars[\"made\"] = cars[\"made\"].str.strip()\n",
    "cars[\"model\"] = cars[\"model\"].str.strip()\n",
    "cars[\"eng\"] = cars[\"eng\"].str.strip()\n",
    "cars[\"tran\"] = cars[\"tran\"].str.strip()\n",
    "cars[\"mileage\"] = cars[\"mileage\"].str.strip()"
   ]
  },
  {
   "cell_type": "code",
   "execution_count": 96,
   "metadata": {},
   "outputs": [
    {
     "data": {
      "text/plain": [
       "56859"
      ]
     },
     "execution_count": 96,
     "metadata": {},
     "output_type": "execute_result"
    }
   ],
   "source": [
    "len(cars)"
   ]
  },
  {
   "cell_type": "code",
   "execution_count": 52,
   "metadata": {},
   "outputs": [
    {
     "data": {
      "text/html": [
       "<div>\n",
       "<style scoped>\n",
       "    .dataframe tbody tr th:only-of-type {\n",
       "        vertical-align: middle;\n",
       "    }\n",
       "\n",
       "    .dataframe tbody tr th {\n",
       "        vertical-align: top;\n",
       "    }\n",
       "\n",
       "    .dataframe thead th {\n",
       "        text-align: right;\n",
       "    }\n",
       "</style>\n",
       "<table border=\"1\" class=\"dataframe\">\n",
       "  <thead>\n",
       "    <tr style=\"text-align: right;\">\n",
       "      <th></th>\n",
       "      <th>cty</th>\n",
       "      <th>drive</th>\n",
       "      <th>eng</th>\n",
       "      <th>exter</th>\n",
       "      <th>fuel</th>\n",
       "      <th>hwy</th>\n",
       "      <th>inter</th>\n",
       "      <th>made</th>\n",
       "      <th>mileage</th>\n",
       "      <th>model</th>\n",
       "      <th>price</th>\n",
       "      <th>slreview</th>\n",
       "      <th>slrzip</th>\n",
       "      <th>title</th>\n",
       "      <th>tran</th>\n",
       "      <th>year</th>\n",
       "    </tr>\n",
       "  </thead>\n",
       "  <tbody>\n",
       "    <tr>\n",
       "      <th>0</th>\n",
       "      <td>27.0</td>\n",
       "      <td>FWD</td>\n",
       "      <td>Gas I4 1.8L/110</td>\n",
       "      <td>Silver</td>\n",
       "      <td>Gasoline</td>\n",
       "      <td>35.0</td>\n",
       "      <td>NaN</td>\n",
       "      <td>Toyota</td>\n",
       "      <td>80,135</td>\n",
       "      <td>Corolla</td>\n",
       "      <td>$6,990</td>\n",
       "      <td>2.1</td>\n",
       "      <td>7834.0</td>\n",
       "      <td>Used 2009 Toyota Corolla LE</td>\n",
       "      <td>Automatic</td>\n",
       "      <td>2009</td>\n",
       "    </tr>\n",
       "    <tr>\n",
       "      <th>1</th>\n",
       "      <td>24.0</td>\n",
       "      <td>FWD</td>\n",
       "      <td>Gas I4 2.4L/146</td>\n",
       "      <td>Red</td>\n",
       "      <td>Gasoline</td>\n",
       "      <td>33.0</td>\n",
       "      <td>NaN</td>\n",
       "      <td>Toyota</td>\n",
       "      <td>157,470</td>\n",
       "      <td>Camry</td>\n",
       "      <td>$4,390</td>\n",
       "      <td>2.1</td>\n",
       "      <td>7834.0</td>\n",
       "      <td>Used 2006 Toyota Camry LE</td>\n",
       "      <td>5-Speed Automatic w/OD</td>\n",
       "      <td>2006</td>\n",
       "    </tr>\n",
       "    <tr>\n",
       "      <th>2</th>\n",
       "      <td>23.0</td>\n",
       "      <td>AWD</td>\n",
       "      <td>2.5L 4-Cylinder DOHC Dual VVT-i</td>\n",
       "      <td>Silver Sky Metallic</td>\n",
       "      <td>Gasoline</td>\n",
       "      <td>30.0</td>\n",
       "      <td>Ash</td>\n",
       "      <td>Toyota</td>\n",
       "      <td>12,001</td>\n",
       "      <td>RAV4</td>\n",
       "      <td>$28,997</td>\n",
       "      <td>4.6</td>\n",
       "      <td>6807.0</td>\n",
       "      <td>Used 2018 Toyota RAV4 XLE</td>\n",
       "      <td>6-Speed Automatic</td>\n",
       "      <td>2018</td>\n",
       "    </tr>\n",
       "    <tr>\n",
       "      <th>3</th>\n",
       "      <td>17.0</td>\n",
       "      <td>4WD</td>\n",
       "      <td>4.0L V6 SMPI DOHC</td>\n",
       "      <td>Silver Metallic</td>\n",
       "      <td>Gasoline</td>\n",
       "      <td>21.0</td>\n",
       "      <td>Bl Gr Sft Syn Lth</td>\n",
       "      <td>Toyota</td>\n",
       "      <td>5</td>\n",
       "      <td>4Runner</td>\n",
       "      <td>$37,639</td>\n",
       "      <td>4.6</td>\n",
       "      <td>6807.0</td>\n",
       "      <td>Used 2018 Toyota 4Runner SR5 Premium</td>\n",
       "      <td>5-Speed Automatic with Overdrive</td>\n",
       "      <td>2018</td>\n",
       "    </tr>\n",
       "    <tr>\n",
       "      <th>4</th>\n",
       "      <td>13.0</td>\n",
       "      <td>4WD</td>\n",
       "      <td>5.7L V8 DOHC Dual VVT-i 32V</td>\n",
       "      <td>Midnight Black Metallic</td>\n",
       "      <td>Gasoline</td>\n",
       "      <td>18.0</td>\n",
       "      <td>Terra Semi-Aniline Perfor</td>\n",
       "      <td>Toyota</td>\n",
       "      <td>201</td>\n",
       "      <td>Land</td>\n",
       "      <td>$80,997</td>\n",
       "      <td>4.6</td>\n",
       "      <td>6807.0</td>\n",
       "      <td>Used 2019 Toyota Land Cruiser Base</td>\n",
       "      <td>8-Speed Automatic (ECT-i)</td>\n",
       "      <td>2019</td>\n",
       "    </tr>\n",
       "  </tbody>\n",
       "</table>\n",
       "</div>"
      ],
      "text/plain": [
       "    cty drive                              eng                    exter  \\\n",
       "0  27.0   FWD                  Gas I4 1.8L/110                   Silver   \n",
       "1  24.0   FWD                  Gas I4 2.4L/146                      Red   \n",
       "2  23.0   AWD  2.5L 4-Cylinder DOHC Dual VVT-i      Silver Sky Metallic   \n",
       "3  17.0   4WD                4.0L V6 SMPI DOHC          Silver Metallic   \n",
       "4  13.0   4WD      5.7L V8 DOHC Dual VVT-i 32V  Midnight Black Metallic   \n",
       "\n",
       "        fuel   hwy                      inter    made  mileage    model  \\\n",
       "0   Gasoline  35.0                        NaN  Toyota   80,135  Corolla   \n",
       "1   Gasoline  33.0                        NaN  Toyota  157,470    Camry   \n",
       "2   Gasoline  30.0                        Ash  Toyota   12,001     RAV4   \n",
       "3   Gasoline  21.0          Bl Gr Sft Syn Lth  Toyota        5  4Runner   \n",
       "4   Gasoline  18.0  Terra Semi-Aniline Perfor  Toyota      201     Land   \n",
       "\n",
       "     price  slreview  slrzip                                 title  \\\n",
       "0   $6,990       2.1  7834.0           Used 2009 Toyota Corolla LE   \n",
       "1   $4,390       2.1  7834.0             Used 2006 Toyota Camry LE   \n",
       "2  $28,997       4.6  6807.0             Used 2018 Toyota RAV4 XLE   \n",
       "3  $37,639       4.6  6807.0  Used 2018 Toyota 4Runner SR5 Premium   \n",
       "4  $80,997       4.6  6807.0    Used 2019 Toyota Land Cruiser Base   \n",
       "\n",
       "                               tran  year  \n",
       "0                         Automatic  2009  \n",
       "1            5-Speed Automatic w/OD  2006  \n",
       "2                 6-Speed Automatic  2018  \n",
       "3  5-Speed Automatic with Overdrive  2018  \n",
       "4         8-Speed Automatic (ECT-i)  2019  "
      ]
     },
     "execution_count": 52,
     "metadata": {},
     "output_type": "execute_result"
    }
   ],
   "source": [
    "cars.head()"
   ]
  },
  {
   "cell_type": "code",
   "execution_count": 97,
   "metadata": {},
   "outputs": [],
   "source": [
    "cars[\"price\"].replace([\"Not Priced\",\"FWD\"], None, inplace = True)\n",
    "cars[\"price\"].replace({'\\$': '', ',': ''}, regex=True, inplace = True)\n",
    "cars[\"mileage\"].replace({',': ''}, regex=True, inplace = True)"
   ]
  },
  {
   "cell_type": "code",
   "execution_count": 148,
   "metadata": {},
   "outputs": [],
   "source": [
    "cars[\"mileage\"].replace(\"Not provided\", np.NaN, inplace = True)\n",
    "cars[\"price\"].replace([None, 1], np.NaN, inplace = True)"
   ]
  },
  {
   "cell_type": "code",
   "execution_count": 149,
   "metadata": {},
   "outputs": [
    {
     "data": {
      "text/plain": [
       "cty         8295\n",
       "drive       3380\n",
       "eng         1742\n",
       "exter          0\n",
       "fuel           0\n",
       "hwy         8295\n",
       "inter       5519\n",
       "made           0\n",
       "mileage        0\n",
       "model          0\n",
       "price          0\n",
       "slreview    4584\n",
       "slrzip      1170\n",
       "title          0\n",
       "tran         992\n",
       "year           0\n",
       "dtype: int64"
      ]
     },
     "execution_count": 149,
     "metadata": {},
     "output_type": "execute_result"
    }
   ],
   "source": [
    "cars[\"exter\"].fillna(\"UNKNOW\", inplace = True)\n",
    "cars.dropna(subset = [\"price\"],inplace = True)\n",
    "cars.dropna(subset = [\"mileage\"],inplace = True)\n",
    "cars.isna().sum()"
   ]
  },
  {
   "cell_type": "code",
   "execution_count": 100,
   "metadata": {
    "scrolled": true
   },
   "outputs": [],
   "source": [
    "cars[\"mileage\"] = cars[\"mileage\"].astype(int)\n",
    "cars[\"price\"] = cars[\"price\"].astype(int)"
   ]
  },
  {
   "cell_type": "code",
   "execution_count": 101,
   "metadata": {},
   "outputs": [
    {
     "data": {
      "text/plain": [
       "cty         float64\n",
       "drive        object\n",
       "eng          object\n",
       "exter        object\n",
       "fuel         object\n",
       "hwy         float64\n",
       "inter        object\n",
       "made         object\n",
       "mileage       int64\n",
       "model        object\n",
       "price         int64\n",
       "slreview    float64\n",
       "slrzip      float64\n",
       "title        object\n",
       "tran         object\n",
       "year          int64\n",
       "dtype: object"
      ]
     },
     "execution_count": 101,
     "metadata": {},
     "output_type": "execute_result"
    }
   ],
   "source": [
    "cars.dtypes"
   ]
  },
  {
   "cell_type": "code",
   "execution_count": 102,
   "metadata": {},
   "outputs": [],
   "source": [
    "cars[\"drive\"].replace([\"4MATIC\", \"quattro\", \"Quattro AWD\", \"Four Wheel Drive\", \"All Wheel Drive\", \n",
    "                        \"All-Wheel Drive with Locking Differential\", \"All-Wheel Drive with Locking and Limited-Slip Differential\", \n",
    "                        \"ALL-WHEEL DRIVE\", \"4x4/4-wheel drive\", \"Four-Wheel Drive with Locking and Limited-Slip Differential\", \n",
    "                        \"4x4\", \"4WD\", \"4MATICA?\", \"4MATIC AWD\", \"4MATIC 4WD\", \"FOUR-WHEEL DRIVE\", \"Four-Wheel\",\n",
    "                        \"4x2\",\"4X2\", \"4X4\", \"CVT 7-Speed\", \"All-wheel Drive\"], \"AWD\", inplace = True)"
   ]
  },
  {
   "cell_type": "code",
   "execution_count": 103,
   "metadata": {},
   "outputs": [],
   "source": [
    "cars[\"drive\"].replace([\"Front-wheel Drive\", \"FrontTrak\", \"FRONT-WHEEL DRIVE\", \"Front Wheel Drive\", \"2WD\", \"Unspecified\",\n",
    "                        \"Front-Wheel Drive with Limited-Slip Differential\", \"Front-Wheel Drive\"], \"FWD\", inplace = True)"
   ]
  },
  {
   "cell_type": "code",
   "execution_count": 154,
   "metadata": {},
   "outputs": [
    {
     "data": {
      "text/plain": [
       "drive\n",
       "AWD    30621\n",
       "FWD    17806\n",
       "RWD     4796\n",
       "Name: title, dtype: int64"
      ]
     },
     "execution_count": 154,
     "metadata": {},
     "output_type": "execute_result"
    }
   ],
   "source": [
    "cars[\"drive\"].replace([\"Rear-wheel Drive\", \"Rear-Wheel Drive with Limited-Slip Differential\", \"4x2/2-wheel drive\", \n",
    "                        \"Rear-Wheel Drive\", \"Rear Wheel Drive\", \"Automatic 8-Speed\"], \"RWD\", inplace = True)\n",
    "cars.groupby(\"drive\")[\"title\"].count().sort_values(ascending = False)"
   ]
  },
  {
   "cell_type": "code",
   "execution_count": 105,
   "metadata": {},
   "outputs": [],
   "source": [
    "cars.loc[cars[\"exter\"].str.contains(\"White\"), \"exter\"] = \"White\"\n",
    "cars.loc[cars[\"exter\"].str.contains(\"Black\"), \"exter\"] = \"Black\"\n",
    "cars.loc[cars[\"exter\"].str.contains(\"Silver\"), \"exter\"] = \"Silver\"\n",
    "cars.loc[cars[\"exter\"].str.contains(\"Blue\"), \"exter\"] = \"Blue\"\n",
    "cars.loc[cars[\"exter\"].str.contains(\"Red\"), \"exter\"] = \"Red\"\n",
    "cars.loc[cars[\"exter\"].str.contains(\"Gray\"), \"exter\"] = \"Gray\"\n",
    "cars.loc[cars[\"exter\"].str.contains(\"Yellow\"), \"exter\"] = \"Yellow\"\n",
    "cars.loc[cars[\"exter\"].str.contains(\"Brown\"), \"exter\"] = \"Brown\"\n",
    "cars.loc[cars[\"exter\"].str.contains(\"Grey\"), \"exter\"] = \"Gray\""
   ]
  },
  {
   "cell_type": "code",
   "execution_count": 106,
   "metadata": {},
   "outputs": [],
   "source": [
    "scatter_df = cars.loc[(cars[\"year\"]>2000) & (cars[\"made\"] == \"Mercedes-Benz\")]\n",
    "scatter_df = scatter_df[[\"year\", \"price\"]]"
   ]
  },
  {
   "cell_type": "code",
   "execution_count": 107,
   "metadata": {},
   "outputs": [
    {
     "data": {
      "text/plain": [
       "<matplotlib.axes._subplots.AxesSubplot at 0x1a22796e10>"
      ]
     },
     "execution_count": 107,
     "metadata": {},
     "output_type": "execute_result"
    },
    {
     "data": {
      "image/png": "[encoded data removed]",
      "text/plain": [
       "<Figure size 432x288 with 1 Axes>"
      ]
     },
     "metadata": {
      "needs_background": "light"
     },
     "output_type": "display_data"
    }
   ],
   "source": [
    "scatter_df.plot.scatter(x = \"year\", y = \"price\")"
   ]
  },
  {
   "cell_type": "code",
   "execution_count": 108,
   "metadata": {},
   "outputs": [],
   "source": [
    "scatter_df1 = cars.loc[(cars[\"mileage\"]<200000) & (cars[\"price\"]<300000) & (cars[\"made\"] == \"Chevrolet\")]\n",
    "scatter_df1 = scatter_df1[[\"price\", \"mileage\"]]"
   ]
  },
  {
   "cell_type": "code",
   "execution_count": 109,
   "metadata": {},
   "outputs": [
    {
     "data": {
      "text/plain": [
       "<matplotlib.axes._subplots.AxesSubplot at 0x1a2281f208>"
      ]
     },
     "execution_count": 109,
     "metadata": {},
     "output_type": "execute_result"
    },
    {
     "data": {
      "image/png": "[encoded data removed]",
      "text/plain": [
       "<Figure size 432x288 with 1 Axes>"
      ]
     },
     "metadata": {
      "needs_background": "light"
     },
     "output_type": "display_data"
    }
   ],
   "source": [
    "scatter_df1.plot.scatter(x = \"mileage\", y = \"price\")"
   ]
  },
  {
   "cell_type": "code",
   "execution_count": 110,
   "metadata": {},
   "outputs": [
    {
     "data": {
      "text/plain": [
       "made\n",
       "Nissan           4927\n",
       "BMW              4880\n",
       "Honda            4863\n",
       "Ford             4745\n",
       "Toyota           4708\n",
       "Mercedes-Benz    4523\n",
       "Chevrolet        3648\n",
       "Jeep             3236\n",
       "Hyundai          1867\n",
       "Lexus            1836\n",
       "Audi             1689\n",
       "Volkswagen       1663\n",
       "Dodge            1527\n",
       "Subaru           1422\n",
       "Acura            1367\n",
       "INFINITI         1355\n",
       "Kia              1117\n",
       "GMC               939\n",
       "Cadillac          889\n",
       "Mazda             844\n",
       "Porsche           621\n",
       "Land              608\n",
       "Volvo             570\n",
       "Chrysler          551\n",
       "RAM               540\n",
       "Lincoln           513\n",
       "Buick             406\n",
       "Mitsubishi        231\n",
       "MINI              217\n",
       "Maserati          139\n",
       "Jaguar            104\n",
       "Scion              41\n",
       "Ferrari            18\n",
       "Bentley             1\n",
       "Name: title, dtype: int64"
      ]
     },
     "execution_count": 110,
     "metadata": {},
     "output_type": "execute_result"
    }
   ],
   "source": [
    "cars.groupby(\"made\")[\"title\"].count().sort_values(ascending = False)"
   ]
  },
  {
   "cell_type": "code",
   "execution_count": 150,
   "metadata": {},
   "outputs": [],
   "source": [
    "t10cars = cars.loc[cars[\"made\"].isin([\"Nissan\",\"Honda\", \"BMW\", \"Ford\", \"Toyota\", \"Mercedes-Benz\", \"Chevrolet\", \"Jeep\",\n",
    "                           \"Hyundai\", \"Lexus\"]) & (cars[\"year\"] > 2000)]"
   ]
  },
  {
   "cell_type": "code",
   "execution_count": 151,
   "metadata": {},
   "outputs": [
    {
     "data": {
      "text/plain": [
       "(38982, 16)"
      ]
     },
     "execution_count": 151,
     "metadata": {},
     "output_type": "execute_result"
    }
   ],
   "source": [
    "t10cars.shape"
   ]
  },
  {
   "cell_type": "code",
   "execution_count": 113,
   "metadata": {},
   "outputs": [
    {
     "data": {
      "text/html": [
       "<div>\n",
       "<style scoped>\n",
       "    .dataframe tbody tr th:only-of-type {\n",
       "        vertical-align: middle;\n",
       "    }\n",
       "\n",
       "    .dataframe tbody tr th {\n",
       "        vertical-align: top;\n",
       "    }\n",
       "\n",
       "    .dataframe thead th {\n",
       "        text-align: right;\n",
       "    }\n",
       "</style>\n",
       "<table border=\"1\" class=\"dataframe\">\n",
       "  <thead>\n",
       "    <tr style=\"text-align: right;\">\n",
       "      <th></th>\n",
       "      <th>price</th>\n",
       "    </tr>\n",
       "    <tr>\n",
       "      <th>made</th>\n",
       "      <th></th>\n",
       "    </tr>\n",
       "  </thead>\n",
       "  <tbody>\n",
       "    <tr>\n",
       "      <th>Mercedes-Benz</th>\n",
       "      <td>34603.826058</td>\n",
       "    </tr>\n",
       "    <tr>\n",
       "      <th>BMW</th>\n",
       "      <td>29424.919630</td>\n",
       "    </tr>\n",
       "    <tr>\n",
       "      <th>Lexus</th>\n",
       "      <td>27288.851507</td>\n",
       "    </tr>\n",
       "    <tr>\n",
       "      <th>Jeep</th>\n",
       "      <td>21873.877057</td>\n",
       "    </tr>\n",
       "    <tr>\n",
       "      <th>Chevrolet</th>\n",
       "      <td>20955.259755</td>\n",
       "    </tr>\n",
       "    <tr>\n",
       "      <th>Ford</th>\n",
       "      <td>20065.531702</td>\n",
       "    </tr>\n",
       "    <tr>\n",
       "      <th>Toyota</th>\n",
       "      <td>19313.318688</td>\n",
       "    </tr>\n",
       "    <tr>\n",
       "      <th>Honda</th>\n",
       "      <td>17009.376883</td>\n",
       "    </tr>\n",
       "    <tr>\n",
       "      <th>Nissan</th>\n",
       "      <td>15584.637991</td>\n",
       "    </tr>\n",
       "    <tr>\n",
       "      <th>Hyundai</th>\n",
       "      <td>13824.289770</td>\n",
       "    </tr>\n",
       "  </tbody>\n",
       "</table>\n",
       "</div>"
      ],
      "text/plain": [
       "                      price\n",
       "made                       \n",
       "Mercedes-Benz  34603.826058\n",
       "BMW            29424.919630\n",
       "Lexus          27288.851507\n",
       "Jeep           21873.877057\n",
       "Chevrolet      20955.259755\n",
       "Ford           20065.531702\n",
       "Toyota         19313.318688\n",
       "Honda          17009.376883\n",
       "Nissan         15584.637991\n",
       "Hyundai        13824.289770"
      ]
     },
     "execution_count": 113,
     "metadata": {},
     "output_type": "execute_result"
    }
   ],
   "source": [
    "t10cars.groupby(\"made\")[[\"price\"]].mean().sort_values(by=\"price\", ascending = False)"
   ]
  },
  {
   "cell_type": "code",
   "execution_count": 114,
   "metadata": {},
   "outputs": [
    {
     "data": {
      "text/html": [
       "<div>\n",
       "<style scoped>\n",
       "    .dataframe tbody tr th:only-of-type {\n",
       "        vertical-align: middle;\n",
       "    }\n",
       "\n",
       "    .dataframe tbody tr th {\n",
       "        vertical-align: top;\n",
       "    }\n",
       "\n",
       "    .dataframe thead th {\n",
       "        text-align: right;\n",
       "    }\n",
       "</style>\n",
       "<table border=\"1\" class=\"dataframe\">\n",
       "  <thead>\n",
       "    <tr style=\"text-align: right;\">\n",
       "      <th></th>\n",
       "      <th>mileage</th>\n",
       "    </tr>\n",
       "    <tr>\n",
       "      <th>made</th>\n",
       "      <th></th>\n",
       "    </tr>\n",
       "  </thead>\n",
       "  <tbody>\n",
       "    <tr>\n",
       "      <th>Ford</th>\n",
       "      <td>54470.190426</td>\n",
       "    </tr>\n",
       "    <tr>\n",
       "      <th>Honda</th>\n",
       "      <td>50259.992570</td>\n",
       "    </tr>\n",
       "    <tr>\n",
       "      <th>Toyota</th>\n",
       "      <td>48668.867338</td>\n",
       "    </tr>\n",
       "    <tr>\n",
       "      <th>Jeep</th>\n",
       "      <td>47938.576529</td>\n",
       "    </tr>\n",
       "    <tr>\n",
       "      <th>Chevrolet</th>\n",
       "      <td>47103.228261</td>\n",
       "    </tr>\n",
       "    <tr>\n",
       "      <th>Hyundai</th>\n",
       "      <td>46147.990894</td>\n",
       "    </tr>\n",
       "    <tr>\n",
       "      <th>Nissan</th>\n",
       "      <td>46064.364246</td>\n",
       "    </tr>\n",
       "    <tr>\n",
       "      <th>Lexus</th>\n",
       "      <td>45696.877260</td>\n",
       "    </tr>\n",
       "    <tr>\n",
       "      <th>BMW</th>\n",
       "      <td>44748.582323</td>\n",
       "    </tr>\n",
       "    <tr>\n",
       "      <th>Mercedes-Benz</th>\n",
       "      <td>41369.330290</td>\n",
       "    </tr>\n",
       "  </tbody>\n",
       "</table>\n",
       "</div>"
      ],
      "text/plain": [
       "                    mileage\n",
       "made                       \n",
       "Ford           54470.190426\n",
       "Honda          50259.992570\n",
       "Toyota         48668.867338\n",
       "Jeep           47938.576529\n",
       "Chevrolet      47103.228261\n",
       "Hyundai        46147.990894\n",
       "Nissan         46064.364246\n",
       "Lexus          45696.877260\n",
       "BMW            44748.582323\n",
       "Mercedes-Benz  41369.330290"
      ]
     },
     "execution_count": 114,
     "metadata": {},
     "output_type": "execute_result"
    }
   ],
   "source": [
    "t10cars.groupby(\"made\")[[\"mileage\"]].mean().sort_values(by=\"mileage\", ascending = False)"
   ]
  },
  {
   "cell_type": "code",
   "execution_count": 115,
   "metadata": {},
   "outputs": [
    {
     "data": {
      "text/plain": [
       "(297, 16)"
      ]
     },
     "execution_count": 115,
     "metadata": {},
     "output_type": "execute_result"
    }
   ],
   "source": [
    "cars.loc[cars[\"year\"]<2000].shape"
   ]
  },
  {
   "cell_type": "code",
   "execution_count": 146,
   "metadata": {},
   "outputs": [],
   "source": [
    "t10 = t10cars[t10cars.groupby(\"year\").price.transform(lambda x: np.abs(x-x.mean())/x.std() < 3)]\n",
    "t10 = t10[t10.groupby(\"year\").mileage.transform(lambda x: np.abs(x-x.mean())/x.std() < 3)]"
   ]
  },
  {
   "cell_type": "code",
   "execution_count": 161,
   "metadata": {},
   "outputs": [
    {
     "data": {
      "text/plain": [
       "(37985, 16)"
      ]
     },
     "execution_count": 161,
     "metadata": {},
     "output_type": "execute_result"
    }
   ],
   "source": [
    "t10.shape"
   ]
  },
  {
   "cell_type": "code",
   "execution_count": 160,
   "metadata": {
    "scrolled": true
   },
   "outputs": [
    {
     "data": {
      "text/plain": [
       "<matplotlib.axes._subplots.AxesSubplot at 0x1a29d49080>"
      ]
     },
     "execution_count": 160,
     "metadata": {},
     "output_type": "execute_result"
    },
    {
     "data": {
      "image/png": "[encoded data removed]",
      "text/plain": [
       "<Figure size 432x288 with 1 Axes>"
      ]
     },
     "metadata": {
      "needs_background": "light"
     },
     "output_type": "display_data"
    }
   ],
   "source": [
    "t10.plot.scatter(x = \"year\", y = \"price\")"
   ]
  },
  {
   "cell_type": "code",
   "execution_count": 159,
   "metadata": {},
   "outputs": [
    {
     "data": {
      "text/plain": [
       "<matplotlib.axes._subplots.AxesSubplot at 0x1a29d746d8>"
      ]
     },
     "execution_count": 159,
     "metadata": {},
     "output_type": "execute_result"
    },
    {
     "data": {
      "image/png": "[encoded data removed]",
      "text/plain": [
       "<Figure size 432x288 with 1 Axes>"
      ]
     },
     "metadata": {
      "needs_background": "light"
     },
     "output_type": "display_data"
    }
   ],
   "source": [
    "t10.plot.scatter(x = \"mileage\", y = \"price\")"
   ]
  },
  {
   "cell_type": "code",
   "execution_count": 158,
   "metadata": {},
   "outputs": [
    {
     "data": {
      "text/plain": [
       "<matplotlib.axes._subplots.AxesSubplot at 0x1a222710b8>"
      ]
     },
     "execution_count": 158,
     "metadata": {},
     "output_type": "execute_result"
    },
    {
     "data": {
      "image/png": "[encoded data removed]",
      "text/plain": [
       "<Figure size 432x288 with 1 Axes>"
      ]
     },
     "metadata": {
      "needs_background": "light"
     },
     "output_type": "display_data"
    }
   ],
   "source": [
    "t10.boxplot(by = 'year', column = 'price')"
   ]
  },
  {
   "cell_type": "code",
   "execution_count": 164,
   "metadata": {},
   "outputs": [],
   "source": [
    "to10 = t10.drop(t10.loc[t10[\"price\"] == 1].index)"
   ]
  },
  {
   "cell_type": "code",
   "execution_count": 165,
   "metadata": {},
   "outputs": [],
   "source": [
    "t10.to_csv(\"t102.csv\",index=False)"
   ]
  },
  {
   "cell_type": "code",
   "execution_count": 121,
   "metadata": {},
   "outputs": [
    {
     "data": {
      "text/html": [
       "<div>\n",
       "<style scoped>\n",
       "    .dataframe tbody tr th:only-of-type {\n",
       "        vertical-align: middle;\n",
       "    }\n",
       "\n",
       "    .dataframe tbody tr th {\n",
       "        vertical-align: top;\n",
       "    }\n",
       "\n",
       "    .dataframe thead th {\n",
       "        text-align: right;\n",
       "    }\n",
       "</style>\n",
       "<table border=\"1\" class=\"dataframe\">\n",
       "  <thead>\n",
       "    <tr style=\"text-align: right;\">\n",
       "      <th></th>\n",
       "      <th>cty</th>\n",
       "      <th>drive</th>\n",
       "      <th>eng</th>\n",
       "      <th>exter</th>\n",
       "      <th>fuel</th>\n",
       "      <th>hwy</th>\n",
       "      <th>inter</th>\n",
       "      <th>made</th>\n",
       "      <th>mileage</th>\n",
       "      <th>model</th>\n",
       "      <th>price</th>\n",
       "      <th>slreview</th>\n",
       "      <th>slrzip</th>\n",
       "      <th>title</th>\n",
       "      <th>tran</th>\n",
       "      <th>year</th>\n",
       "    </tr>\n",
       "  </thead>\n",
       "  <tbody>\n",
       "    <tr>\n",
       "      <th>162</th>\n",
       "      <td>26.0</td>\n",
       "      <td>FWD</td>\n",
       "      <td>2.4L I4 16V MPFI DOHC</td>\n",
       "      <td>UNKNOW</td>\n",
       "      <td>Gasoline</td>\n",
       "      <td>34.0</td>\n",
       "      <td>NaN</td>\n",
       "      <td>Honda</td>\n",
       "      <td>139022</td>\n",
       "      <td>Accord</td>\n",
       "      <td>22995</td>\n",
       "      <td>3.3</td>\n",
       "      <td>6830.0</td>\n",
       "      <td>Used 2006 Honda Accord LX</td>\n",
       "      <td>5-Speed Automatic</td>\n",
       "      <td>2006</td>\n",
       "    </tr>\n",
       "    <tr>\n",
       "      <th>240</th>\n",
       "      <td>26.0</td>\n",
       "      <td>FWD</td>\n",
       "      <td>4 Cylinder</td>\n",
       "      <td>Black</td>\n",
       "      <td>Gasoline</td>\n",
       "      <td>34.0</td>\n",
       "      <td>NaN</td>\n",
       "      <td>Honda</td>\n",
       "      <td>124405</td>\n",
       "      <td>Accord</td>\n",
       "      <td>31300</td>\n",
       "      <td>4.7</td>\n",
       "      <td>7730.0</td>\n",
       "      <td>Used 2006 Honda Accord SE</td>\n",
       "      <td>Manual</td>\n",
       "      <td>2006</td>\n",
       "    </tr>\n",
       "    <tr>\n",
       "      <th>962</th>\n",
       "      <td>19.0</td>\n",
       "      <td>FWD</td>\n",
       "      <td>3.5L V6 Cylinder Engine</td>\n",
       "      <td>Gray</td>\n",
       "      <td>Gasoline</td>\n",
       "      <td>25.0</td>\n",
       "      <td>NaN</td>\n",
       "      <td>Honda</td>\n",
       "      <td>129970</td>\n",
       "      <td>Odyssey</td>\n",
       "      <td>15995</td>\n",
       "      <td>5.0</td>\n",
       "      <td>8840.0</td>\n",
       "      <td>Used 2006 Honda Odyssey EX</td>\n",
       "      <td>NaN</td>\n",
       "      <td>2006</td>\n",
       "    </tr>\n",
       "    <tr>\n",
       "      <th>16946</th>\n",
       "      <td>NaN</td>\n",
       "      <td>AWD</td>\n",
       "      <td>3.5L V6 CYLINDER</td>\n",
       "      <td>Gray</td>\n",
       "      <td>Gasoline</td>\n",
       "      <td>NaN</td>\n",
       "      <td>Gray</td>\n",
       "      <td>Honda</td>\n",
       "      <td>83163</td>\n",
       "      <td>Ridgeline</td>\n",
       "      <td>13575</td>\n",
       "      <td>3.8</td>\n",
       "      <td>8882.0</td>\n",
       "      <td>Used 2006 Honda Ridgeline RTL with MOONROOF</td>\n",
       "      <td>5-Speed Automatic</td>\n",
       "      <td>2006</td>\n",
       "    </tr>\n",
       "    <tr>\n",
       "      <th>17747</th>\n",
       "      <td>19.0</td>\n",
       "      <td>FWD</td>\n",
       "      <td>3.5L V6 24V MPFI SOHC</td>\n",
       "      <td>Gray</td>\n",
       "      <td>Gasoline</td>\n",
       "      <td>25.0</td>\n",
       "      <td>NaN</td>\n",
       "      <td>Honda</td>\n",
       "      <td>203690</td>\n",
       "      <td>Odyssey</td>\n",
       "      <td>14500</td>\n",
       "      <td>3.1</td>\n",
       "      <td>11101.0</td>\n",
       "      <td>Used 2006 Honda Odyssey EX</td>\n",
       "      <td>5-Speed Automatic</td>\n",
       "      <td>2006</td>\n",
       "    </tr>\n",
       "    <tr>\n",
       "      <th>17883</th>\n",
       "      <td>17.0</td>\n",
       "      <td>AWD</td>\n",
       "      <td>Gas V6 3.5L/212</td>\n",
       "      <td>UNKNOW</td>\n",
       "      <td>Gasoline</td>\n",
       "      <td>22.0</td>\n",
       "      <td>NaN</td>\n",
       "      <td>Honda</td>\n",
       "      <td>153978</td>\n",
       "      <td>Pilot</td>\n",
       "      <td>20995</td>\n",
       "      <td>4.9</td>\n",
       "      <td>7631.0</td>\n",
       "      <td>Used 2006 Honda Pilot EX-L</td>\n",
       "      <td>5-Speed Automatic w/OD</td>\n",
       "      <td>2006</td>\n",
       "    </tr>\n",
       "  </tbody>\n",
       "</table>\n",
       "</div>"
      ],
      "text/plain": [
       "        cty drive                      eng   exter       fuel   hwy inter  \\\n",
       "162    26.0   FWD    2.4L I4 16V MPFI DOHC  UNKNOW   Gasoline  34.0   NaN   \n",
       "240    26.0   FWD               4 Cylinder   Black   Gasoline  34.0   NaN   \n",
       "962    19.0   FWD  3.5L V6 Cylinder Engine    Gray   Gasoline  25.0   NaN   \n",
       "16946   NaN   AWD         3.5L V6 CYLINDER    Gray   Gasoline   NaN  Gray   \n",
       "17747  19.0   FWD    3.5L V6 24V MPFI SOHC    Gray   Gasoline  25.0   NaN   \n",
       "17883  17.0   AWD          Gas V6 3.5L/212  UNKNOW   Gasoline  22.0   NaN   \n",
       "\n",
       "        made  mileage      model  price  slreview   slrzip  \\\n",
       "162    Honda   139022     Accord  22995       3.3   6830.0   \n",
       "240    Honda   124405     Accord  31300       4.7   7730.0   \n",
       "962    Honda   129970    Odyssey  15995       5.0   8840.0   \n",
       "16946  Honda    83163  Ridgeline  13575       3.8   8882.0   \n",
       "17747  Honda   203690    Odyssey  14500       3.1  11101.0   \n",
       "17883  Honda   153978      Pilot  20995       4.9   7631.0   \n",
       "\n",
       "                                             title                    tran  \\\n",
       "162                      Used 2006 Honda Accord LX       5-Speed Automatic   \n",
       "240                      Used 2006 Honda Accord SE                  Manual   \n",
       "962                     Used 2006 Honda Odyssey EX                     NaN   \n",
       "16946  Used 2006 Honda Ridgeline RTL with MOONROOF       5-Speed Automatic   \n",
       "17747                   Used 2006 Honda Odyssey EX       5-Speed Automatic   \n",
       "17883                   Used 2006 Honda Pilot EX-L  5-Speed Automatic w/OD   \n",
       "\n",
       "       year  \n",
       "162    2006  \n",
       "240    2006  \n",
       "962    2006  \n",
       "16946  2006  \n",
       "17747  2006  \n",
       "17883  2006  "
      ]
     },
     "execution_count": 121,
     "metadata": {},
     "output_type": "execute_result"
    }
   ],
   "source": [
    "myear = t10['year'] == 2006\n",
    "mprice = t10['price'] > 10000\n",
    "mmade = t10['made'] == \"Honda\"\n",
    "t10.loc[myear & mprice & mmade]"
   ]
  },
  {
   "cell_type": "code",
   "execution_count": 122,
   "metadata": {},
   "outputs": [
    {
     "data": {
      "text/plain": [
       "made\n",
       "Nissan           4862\n",
       "Honda            4810\n",
       "BMW              4757\n",
       "Toyota           4617\n",
       "Ford             4569\n",
       "Mercedes-Benz    4050\n",
       "Chevrolet        3482\n",
       "Jeep             3190\n",
       "Hyundai          1851\n",
       "Lexus            1797\n",
       "Name: title, dtype: int64"
      ]
     },
     "execution_count": 122,
     "metadata": {},
     "output_type": "execute_result"
    }
   ],
   "source": [
    "t10.groupby(\"made\")[\"title\"].count().sort_values(ascending = False)"
   ]
  },
  {
   "cell_type": "code",
   "execution_count": 692,
   "metadata": {},
   "outputs": [
    {
     "data": {
      "text/plain": [
       "made\n",
       "Nissan           4867\n",
       "Honda            4833\n",
       "BMW              4768\n",
       "Toyota           4636\n",
       "Ford             4588\n",
       "Mercedes-Benz    4070\n",
       "Chevrolet        3494\n",
       "Jeep             3214\n",
       "Hyundai          1864\n",
       "Lexus            1803\n",
       "Name: title, dtype: int64"
      ]
     },
     "execution_count": 692,
     "metadata": {},
     "output_type": "execute_result"
    }
   ],
   "source": [
    "t10.groupby(\"made\")[\"title\"].count().sort_values(ascending = False)"
   ]
  },
  {
   "cell_type": "code",
   "execution_count": 693,
   "metadata": {},
   "outputs": [
    {
     "data": {
      "text/plain": [
       "model\n",
       "Accord       1501\n",
       "CR-V         1038\n",
       "Civic        1010\n",
       "Pilot         532\n",
       "Odyssey       477\n",
       "HR-V          115\n",
       "Fit            84\n",
       "Ridgeline      33\n",
       "Crosstour      12\n",
       "Element        11\n",
       "Insight         6\n",
       "CR-Z            5\n",
       "S2000           4\n",
       "Clarity         3\n",
       "EX              2\n",
       "Name: title, dtype: int64"
      ]
     },
     "execution_count": 693,
     "metadata": {},
     "output_type": "execute_result"
    }
   ],
   "source": [
    "t10.loc[t10[\"made\"] == \"Honda\"].groupby(\"model\")[\"title\"].count().sort_values(ascending = False)"
   ]
  },
  {
   "cell_type": "code",
   "execution_count": 162,
   "metadata": {},
   "outputs": [],
   "source": [
    "t10 = t10.assign(age = 2019 - t10[\"year\"])"
   ]
  },
  {
   "cell_type": "code",
   "execution_count": 124,
   "metadata": {},
   "outputs": [
    {
     "data": {
      "text/plain": [
       "(4810, 4)"
      ]
     },
     "execution_count": 124,
     "metadata": {},
     "output_type": "execute_result"
    }
   ],
   "source": [
    "honda = t10.loc[t10[\"made\"] == \"Honda\"][[\"age\", \"mileage\", \"price\", \"model\"]]\n",
    "honda.shape"
   ]
  },
  {
   "cell_type": "code",
   "execution_count": 125,
   "metadata": {},
   "outputs": [
    {
     "data": {
      "text/plain": [
       "(4717, 4)"
      ]
     },
     "execution_count": 125,
     "metadata": {},
     "output_type": "execute_result"
    }
   ],
   "source": [
    "honda = honda[honda.groupby(\"age\").price.transform(lambda x: np.abs(x-x.mean())/x.std() < 3)]\n",
    "honda = honda[honda.groupby(\"age\").mileage.transform(lambda x: np.abs(x-x.mean())/x.std() < 3)]\n",
    "honda.shape"
   ]
  },
  {
   "cell_type": "code",
   "execution_count": 126,
   "metadata": {},
   "outputs": [
    {
     "data": {
      "text/plain": [
       "<matplotlib.axes._subplots.AxesSubplot at 0x1a29723b70>"
      ]
     },
     "execution_count": 126,
     "metadata": {},
     "output_type": "execute_result"
    },
    {
     "data": {
      "image/png": "[encoded data removed]",
      "text/plain": [
       "<Figure size 432x288 with 1 Axes>"
      ]
     },
     "metadata": {
      "needs_background": "light"
     },
     "output_type": "display_data"
    }
   ],
   "source": [
    "honda.plot.scatter(x = \"age\", y = \"price\")"
   ]
  },
  {
   "cell_type": "code",
   "execution_count": 127,
   "metadata": {},
   "outputs": [],
   "source": [
    "honda = pd.get_dummies(honda)"
   ]
  },
  {
   "cell_type": "code",
   "execution_count": 130,
   "metadata": {},
   "outputs": [
    {
     "data": {
      "text/html": [
       "<div>\n",
       "<style scoped>\n",
       "    .dataframe tbody tr th:only-of-type {\n",
       "        vertical-align: middle;\n",
       "    }\n",
       "\n",
       "    .dataframe tbody tr th {\n",
       "        vertical-align: top;\n",
       "    }\n",
       "\n",
       "    .dataframe thead th {\n",
       "        text-align: right;\n",
       "    }\n",
       "</style>\n",
       "<table border=\"1\" class=\"dataframe\">\n",
       "  <thead>\n",
       "    <tr style=\"text-align: right;\">\n",
       "      <th></th>\n",
       "      <th>age</th>\n",
       "      <th>mileage</th>\n",
       "      <th>model_Accord</th>\n",
       "      <th>model_CR-V</th>\n",
       "      <th>model_CR-Z</th>\n",
       "      <th>model_Civic</th>\n",
       "      <th>model_Clarity</th>\n",
       "      <th>model_Crosstour</th>\n",
       "      <th>model_EX</th>\n",
       "      <th>model_Element</th>\n",
       "      <th>model_Fit</th>\n",
       "      <th>model_HR-V</th>\n",
       "      <th>model_Insight</th>\n",
       "      <th>model_Odyssey</th>\n",
       "      <th>model_Pilot</th>\n",
       "      <th>model_Ridgeline</th>\n",
       "      <th>model_S2000</th>\n",
       "    </tr>\n",
       "  </thead>\n",
       "  <tbody>\n",
       "    <tr>\n",
       "      <th>143</th>\n",
       "      <td>3</td>\n",
       "      <td>15053</td>\n",
       "      <td>1</td>\n",
       "      <td>0</td>\n",
       "      <td>0</td>\n",
       "      <td>0</td>\n",
       "      <td>0</td>\n",
       "      <td>0</td>\n",
       "      <td>0</td>\n",
       "      <td>0</td>\n",
       "      <td>0</td>\n",
       "      <td>0</td>\n",
       "      <td>0</td>\n",
       "      <td>0</td>\n",
       "      <td>0</td>\n",
       "      <td>0</td>\n",
       "      <td>0</td>\n",
       "    </tr>\n",
       "    <tr>\n",
       "      <th>144</th>\n",
       "      <td>3</td>\n",
       "      <td>26684</td>\n",
       "      <td>1</td>\n",
       "      <td>0</td>\n",
       "      <td>0</td>\n",
       "      <td>0</td>\n",
       "      <td>0</td>\n",
       "      <td>0</td>\n",
       "      <td>0</td>\n",
       "      <td>0</td>\n",
       "      <td>0</td>\n",
       "      <td>0</td>\n",
       "      <td>0</td>\n",
       "      <td>0</td>\n",
       "      <td>0</td>\n",
       "      <td>0</td>\n",
       "      <td>0</td>\n",
       "    </tr>\n",
       "    <tr>\n",
       "      <th>145</th>\n",
       "      <td>3</td>\n",
       "      <td>44096</td>\n",
       "      <td>1</td>\n",
       "      <td>0</td>\n",
       "      <td>0</td>\n",
       "      <td>0</td>\n",
       "      <td>0</td>\n",
       "      <td>0</td>\n",
       "      <td>0</td>\n",
       "      <td>0</td>\n",
       "      <td>0</td>\n",
       "      <td>0</td>\n",
       "      <td>0</td>\n",
       "      <td>0</td>\n",
       "      <td>0</td>\n",
       "      <td>0</td>\n",
       "      <td>0</td>\n",
       "    </tr>\n",
       "    <tr>\n",
       "      <th>146</th>\n",
       "      <td>2</td>\n",
       "      <td>18688</td>\n",
       "      <td>0</td>\n",
       "      <td>0</td>\n",
       "      <td>0</td>\n",
       "      <td>0</td>\n",
       "      <td>0</td>\n",
       "      <td>0</td>\n",
       "      <td>0</td>\n",
       "      <td>0</td>\n",
       "      <td>0</td>\n",
       "      <td>0</td>\n",
       "      <td>0</td>\n",
       "      <td>0</td>\n",
       "      <td>0</td>\n",
       "      <td>1</td>\n",
       "      <td>0</td>\n",
       "    </tr>\n",
       "    <tr>\n",
       "      <th>147</th>\n",
       "      <td>1</td>\n",
       "      <td>21353</td>\n",
       "      <td>0</td>\n",
       "      <td>0</td>\n",
       "      <td>0</td>\n",
       "      <td>0</td>\n",
       "      <td>0</td>\n",
       "      <td>0</td>\n",
       "      <td>0</td>\n",
       "      <td>0</td>\n",
       "      <td>0</td>\n",
       "      <td>1</td>\n",
       "      <td>0</td>\n",
       "      <td>0</td>\n",
       "      <td>0</td>\n",
       "      <td>0</td>\n",
       "      <td>0</td>\n",
       "    </tr>\n",
       "  </tbody>\n",
       "</table>\n",
       "</div>"
      ],
      "text/plain": [
       "     age  mileage  model_Accord  model_CR-V  model_CR-Z  model_Civic  \\\n",
       "143    3    15053             1           0           0            0   \n",
       "144    3    26684             1           0           0            0   \n",
       "145    3    44096             1           0           0            0   \n",
       "146    2    18688             0           0           0            0   \n",
       "147    1    21353             0           0           0            0   \n",
       "\n",
       "     model_Clarity  model_Crosstour  model_EX  model_Element  model_Fit  \\\n",
       "143              0                0         0              0          0   \n",
       "144              0                0         0              0          0   \n",
       "145              0                0         0              0          0   \n",
       "146              0                0         0              0          0   \n",
       "147              0                0         0              0          0   \n",
       "\n",
       "     model_HR-V  model_Insight  model_Odyssey  model_Pilot  model_Ridgeline  \\\n",
       "143           0              0              0            0                0   \n",
       "144           0              0              0            0                0   \n",
       "145           0              0              0            0                0   \n",
       "146           0              0              0            0                1   \n",
       "147           1              0              0            0                0   \n",
       "\n",
       "     model_S2000  \n",
       "143            0  \n",
       "144            0  \n",
       "145            0  \n",
       "146            0  \n",
       "147            0  "
      ]
     },
     "execution_count": 130,
     "metadata": {},
     "output_type": "execute_result"
    }
   ],
   "source": [
    "X.head()"
   ]
  },
  {
   "cell_type": "code",
   "execution_count": 129,
   "metadata": {},
   "outputs": [],
   "source": [
    "X = honda.drop(\"price\", axis = 1)"
   ]
  },
  {
   "cell_type": "code",
   "execution_count": 131,
   "metadata": {},
   "outputs": [],
   "source": [
    "X =  X.assign(agesqrt = X.age**2)"
   ]
  },
  {
   "cell_type": "code",
   "execution_count": 132,
   "metadata": {},
   "outputs": [],
   "source": [
    "y = honda[\"price\"]"
   ]
  },
  {
   "cell_type": "code",
   "execution_count": 133,
   "metadata": {},
   "outputs": [],
   "source": [
    "X_train, X_test, y_train, y_test = train_test_split(X,y,test_size=0.2, random_state=0)"
   ]
  },
  {
   "cell_type": "code",
   "execution_count": 134,
   "metadata": {},
   "outputs": [
    {
     "data": {
      "text/html": [
       "<div>\n",
       "<style scoped>\n",
       "    .dataframe tbody tr th:only-of-type {\n",
       "        vertical-align: middle;\n",
       "    }\n",
       "\n",
       "    .dataframe tbody tr th {\n",
       "        vertical-align: top;\n",
       "    }\n",
       "\n",
       "    .dataframe thead th {\n",
       "        text-align: right;\n",
       "    }\n",
       "</style>\n",
       "<table border=\"1\" class=\"dataframe\">\n",
       "  <thead>\n",
       "    <tr style=\"text-align: right;\">\n",
       "      <th></th>\n",
       "      <th>age</th>\n",
       "      <th>mileage</th>\n",
       "      <th>model_Accord</th>\n",
       "      <th>model_CR-V</th>\n",
       "      <th>model_CR-Z</th>\n",
       "      <th>model_Civic</th>\n",
       "      <th>model_Clarity</th>\n",
       "      <th>model_Crosstour</th>\n",
       "      <th>model_EX</th>\n",
       "      <th>model_Element</th>\n",
       "      <th>model_Fit</th>\n",
       "      <th>model_HR-V</th>\n",
       "      <th>model_Insight</th>\n",
       "      <th>model_Odyssey</th>\n",
       "      <th>model_Pilot</th>\n",
       "      <th>model_Ridgeline</th>\n",
       "      <th>model_S2000</th>\n",
       "      <th>agesqrt</th>\n",
       "    </tr>\n",
       "  </thead>\n",
       "  <tbody>\n",
       "    <tr>\n",
       "      <th>15979</th>\n",
       "      <td>13</td>\n",
       "      <td>110455</td>\n",
       "      <td>0</td>\n",
       "      <td>0</td>\n",
       "      <td>0</td>\n",
       "      <td>0</td>\n",
       "      <td>0</td>\n",
       "      <td>0</td>\n",
       "      <td>0</td>\n",
       "      <td>0</td>\n",
       "      <td>0</td>\n",
       "      <td>0</td>\n",
       "      <td>0</td>\n",
       "      <td>1</td>\n",
       "      <td>0</td>\n",
       "      <td>0</td>\n",
       "      <td>0</td>\n",
       "      <td>169</td>\n",
       "    </tr>\n",
       "    <tr>\n",
       "      <th>15888</th>\n",
       "      <td>3</td>\n",
       "      <td>38346</td>\n",
       "      <td>0</td>\n",
       "      <td>1</td>\n",
       "      <td>0</td>\n",
       "      <td>0</td>\n",
       "      <td>0</td>\n",
       "      <td>0</td>\n",
       "      <td>0</td>\n",
       "      <td>0</td>\n",
       "      <td>0</td>\n",
       "      <td>0</td>\n",
       "      <td>0</td>\n",
       "      <td>0</td>\n",
       "      <td>0</td>\n",
       "      <td>0</td>\n",
       "      <td>0</td>\n",
       "      <td>9</td>\n",
       "    </tr>\n",
       "    <tr>\n",
       "      <th>183</th>\n",
       "      <td>3</td>\n",
       "      <td>23136</td>\n",
       "      <td>0</td>\n",
       "      <td>1</td>\n",
       "      <td>0</td>\n",
       "      <td>0</td>\n",
       "      <td>0</td>\n",
       "      <td>0</td>\n",
       "      <td>0</td>\n",
       "      <td>0</td>\n",
       "      <td>0</td>\n",
       "      <td>0</td>\n",
       "      <td>0</td>\n",
       "      <td>0</td>\n",
       "      <td>0</td>\n",
       "      <td>0</td>\n",
       "      <td>0</td>\n",
       "      <td>9</td>\n",
       "    </tr>\n",
       "    <tr>\n",
       "      <th>14756</th>\n",
       "      <td>5</td>\n",
       "      <td>59119</td>\n",
       "      <td>0</td>\n",
       "      <td>0</td>\n",
       "      <td>0</td>\n",
       "      <td>0</td>\n",
       "      <td>0</td>\n",
       "      <td>0</td>\n",
       "      <td>0</td>\n",
       "      <td>0</td>\n",
       "      <td>0</td>\n",
       "      <td>0</td>\n",
       "      <td>0</td>\n",
       "      <td>1</td>\n",
       "      <td>0</td>\n",
       "      <td>0</td>\n",
       "      <td>0</td>\n",
       "      <td>25</td>\n",
       "    </tr>\n",
       "    <tr>\n",
       "      <th>14940</th>\n",
       "      <td>8</td>\n",
       "      <td>91269</td>\n",
       "      <td>0</td>\n",
       "      <td>0</td>\n",
       "      <td>0</td>\n",
       "      <td>0</td>\n",
       "      <td>0</td>\n",
       "      <td>0</td>\n",
       "      <td>0</td>\n",
       "      <td>0</td>\n",
       "      <td>1</td>\n",
       "      <td>0</td>\n",
       "      <td>0</td>\n",
       "      <td>0</td>\n",
       "      <td>0</td>\n",
       "      <td>0</td>\n",
       "      <td>0</td>\n",
       "      <td>64</td>\n",
       "    </tr>\n",
       "  </tbody>\n",
       "</table>\n",
       "</div>"
      ],
      "text/plain": [
       "       age  mileage  model_Accord  model_CR-V  model_CR-Z  model_Civic  \\\n",
       "15979   13   110455             0           0           0            0   \n",
       "15888    3    38346             0           1           0            0   \n",
       "183      3    23136             0           1           0            0   \n",
       "14756    5    59119             0           0           0            0   \n",
       "14940    8    91269             0           0           0            0   \n",
       "\n",
       "       model_Clarity  model_Crosstour  model_EX  model_Element  model_Fit  \\\n",
       "15979              0                0         0              0          0   \n",
       "15888              0                0         0              0          0   \n",
       "183                0                0         0              0          0   \n",
       "14756              0                0         0              0          0   \n",
       "14940              0                0         0              0          1   \n",
       "\n",
       "       model_HR-V  model_Insight  model_Odyssey  model_Pilot  model_Ridgeline  \\\n",
       "15979           0              0              1            0                0   \n",
       "15888           0              0              0            0                0   \n",
       "183             0              0              0            0                0   \n",
       "14756           0              0              1            0                0   \n",
       "14940           0              0              0            0                0   \n",
       "\n",
       "       model_S2000  agesqrt  \n",
       "15979            0      169  \n",
       "15888            0        9  \n",
       "183              0        9  \n",
       "14756            0       25  \n",
       "14940            0       64  "
      ]
     },
     "execution_count": 134,
     "metadata": {},
     "output_type": "execute_result"
    }
   ],
   "source": [
    "X_train.head()"
   ]
  },
  {
   "cell_type": "code",
   "execution_count": 135,
   "metadata": {},
   "outputs": [],
   "source": [
    "lm = linear_model.LinearRegression()"
   ]
  },
  {
   "cell_type": "code",
   "execution_count": 136,
   "metadata": {},
   "outputs": [],
   "source": [
    "model = lm.fit(X_train,y_train)"
   ]
  },
  {
   "cell_type": "code",
   "execution_count": 137,
   "metadata": {},
   "outputs": [
    {
     "data": {
      "text/plain": [
       "0.8268982313178191"
      ]
     },
     "execution_count": 137,
     "metadata": {},
     "output_type": "execute_result"
    }
   ],
   "source": [
    "model.score(X_test,y_test)"
   ]
  },
  {
   "cell_type": "code",
   "execution_count": 138,
   "metadata": {},
   "outputs": [],
   "source": [
    "y_pre = model.predict(X_train)"
   ]
  },
  {
   "cell_type": "code",
   "execution_count": 139,
   "metadata": {},
   "outputs": [
    {
     "data": {
      "text/plain": [
       "array([ 9538.5123868 , 20369.11972553, 21132.36617267, 18604.61400241,\n",
       "        6135.02835442])"
      ]
     },
     "execution_count": 139,
     "metadata": {},
     "output_type": "execute_result"
    }
   ],
   "source": [
    "y_pre[0:5]"
   ]
  },
  {
   "cell_type": "code",
   "execution_count": 140,
   "metadata": {},
   "outputs": [
    {
     "data": {
      "text/plain": [
       "15979     5995\n",
       "15888    17995\n",
       "183      13990\n",
       "14756    16995\n",
       "14940     6795\n",
       "Name: price, dtype: int64"
      ]
     },
     "execution_count": 140,
     "metadata": {},
     "output_type": "execute_result"
    }
   ],
   "source": [
    "y_train[0:5]"
   ]
  },
  {
   "cell_type": "code",
   "execution_count": 141,
   "metadata": {},
   "outputs": [
    {
     "data": {
      "text/plain": [
       "array([-2.20026296e+03, -5.01805685e-02, -2.65325455e+03, -1.07318353e+02,\n",
       "       -4.57132335e+03, -4.05468772e+03,  1.52674941e+03,  1.15473732e+03,\n",
       "        1.15301518e+03,  4.42094464e+02, -4.92858277e+03, -2.92723526e+03,\n",
       "       -5.39458177e+03,  2.33642815e+03,  4.76073156e+03,  4.74080795e+03,\n",
       "        8.52241973e+03,  7.71671645e+01])"
      ]
     },
     "execution_count": 141,
     "metadata": {},
     "output_type": "execute_result"
    }
   ],
   "source": [
    "model.coef_"
   ]
  },
  {
   "cell_type": "code",
   "execution_count": 168,
   "metadata": {},
   "outputs": [
    {
     "data": {
      "text/plain": [
       "77.16716452507974"
      ]
     },
     "execution_count": 168,
     "metadata": {},
     "output_type": "execute_result"
    }
   ],
   "source": [
    "model.coef_[-1]"
   ]
  },
  {
   "cell_type": "code",
   "execution_count": 142,
   "metadata": {},
   "outputs": [
    {
     "data": {
      "text/plain": [
       "-2123.0957907043767"
      ]
     },
     "execution_count": 142,
     "metadata": {},
     "output_type": "execute_result"
    }
   ],
   "source": [
    "model.coef_[0] + model.coef_[-1]"
   ]
  },
  {
   "cell_type": "code",
   "execution_count": 167,
   "metadata": {},
   "outputs": [
    {
     "data": {
      "text/plain": [
       "28306.946543350023"
      ]
     },
     "execution_count": 167,
     "metadata": {},
     "output_type": "execute_result"
    }
   ],
   "source": [
    "model.intercept_"
   ]
  },
  {
   "cell_type": "code",
   "execution_count": 144,
   "metadata": {},
   "outputs": [
    {
     "data": {
      "text/plain": [
       "2677.6935890076024"
      ]
     },
     "execution_count": 144,
     "metadata": {},
     "output_type": "execute_result"
    }
   ],
   "source": [
    "RMSE = np.sqrt(mean_squared_error(y_train, y_pre))\n",
    "RMSE"
   ]
  },
  {
   "cell_type": "code",
   "execution_count": null,
   "metadata": {},
   "outputs": [],
   "source": []
  }
 ],
 "metadata": {
  "kernelspec": {
   "display_name": "Python 3",
   "language": "python",
   "name": "python3"
  },
  "language_info": {
   "codemirror_mode": {
    "name": "ipython",
    "version": 3
   },
   "file_extension": ".py",
   "mimetype": "text/x-python",
   "name": "python",
   "nbconvert_exporter": "python",
   "pygments_lexer": "ipython3",
   "version": "3.7.1"
  }
 },
 "nbformat": 4,
 "nbformat_minor": 2
}
